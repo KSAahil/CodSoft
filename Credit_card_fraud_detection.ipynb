{
 "cells": [
  {
   "cell_type": "markdown",
   "id": "2e00de24-8260-4ec3-bcc6-5b9e1b18d7fe",
   "metadata": {},
   "source": [
    "# CREDIT CARD FRAUD DETECTION -"
   ]
  },
  {
   "cell_type": "raw",
   "id": "625a27b7-4506-4208-ad0b-4fecc999436d",
   "metadata": {},
   "source": [
    "Credit card fraud is the act of using another person’s credit card to make purchases or request cash advances without the cardholder’s knowledge or consent."
   ]
  },
  {
   "cell_type": "raw",
   "id": "0b218d3b-bcf7-4507-8c40-2755019b603e",
   "metadata": {},
   "source": [
    "Credit card fraud detection is the collective term for the policies, tools, methodologies, and practices that credit card companies and financial institutions take to combat identity fraud and stop fraudulent transactions."
   ]
  },
  {
   "cell_type": "raw",
   "id": "fe1b8e57-8a30-4e95-9a62-938ad8be7b61",
   "metadata": {},
   "source": [
    "In recent years, as the amount of data has exploded and the number of payment card transactions has skyrocketed, credit fraud detection has become largely digitized and automated. Most modern solutions leverage artificial intelligence (AI) and machine learning (ML) to manage data analysis, predictive modeling, decision-making, fraud alerts and remediation activity that occur when individual instances of credit card fraud are detected"
   ]
  },
  {
   "cell_type": "markdown",
   "id": "1c32a9aa-ece6-4787-aef0-f8b43fdd2bf8",
   "metadata": {},
   "source": [
    "# Import Libraries"
   ]
  },
  {
   "cell_type": "code",
   "execution_count": 3,
   "id": "14152266-6543-4141-b063-d9458bfc0e2b",
   "metadata": {},
   "outputs": [],
   "source": [
    "import numpy as np\n",
    "import pandas as pd\n",
    "import matplotlib.pyplot as plt\n",
    "import seaborn as sns"
   ]
  },
  {
   "cell_type": "markdown",
   "id": "df067470-edfa-435c-8d60-0f4435b6d3bc",
   "metadata": {},
   "source": [
    "# Read Dataset"
   ]
  },
  {
   "cell_type": "code",
   "execution_count": 6,
   "id": "562417b3-264a-4db5-9105-023a21caffec",
   "metadata": {},
   "outputs": [],
   "source": [
    "df = pd.read_csv('creditcard.csv')"
   ]
  },
  {
   "cell_type": "code",
   "execution_count": 8,
   "id": "ba7bade4-472c-4bbf-9024-a2b2cf46ccbe",
   "metadata": {},
   "outputs": [
    {
     "data": {
      "text/html": [
       "<div>\n",
       "<style scoped>\n",
       "    .dataframe tbody tr th:only-of-type {\n",
       "        vertical-align: middle;\n",
       "    }\n",
       "\n",
       "    .dataframe tbody tr th {\n",
       "        vertical-align: top;\n",
       "    }\n",
       "\n",
       "    .dataframe thead th {\n",
       "        text-align: right;\n",
       "    }\n",
       "</style>\n",
       "<table border=\"1\" class=\"dataframe\">\n",
       "  <thead>\n",
       "    <tr style=\"text-align: right;\">\n",
       "      <th></th>\n",
       "      <th>Time</th>\n",
       "      <th>V1</th>\n",
       "      <th>V2</th>\n",
       "      <th>V3</th>\n",
       "      <th>V4</th>\n",
       "      <th>V5</th>\n",
       "      <th>V6</th>\n",
       "      <th>V7</th>\n",
       "      <th>V8</th>\n",
       "      <th>V9</th>\n",
       "      <th>...</th>\n",
       "      <th>V21</th>\n",
       "      <th>V22</th>\n",
       "      <th>V23</th>\n",
       "      <th>V24</th>\n",
       "      <th>V25</th>\n",
       "      <th>V26</th>\n",
       "      <th>V27</th>\n",
       "      <th>V28</th>\n",
       "      <th>Amount</th>\n",
       "      <th>Class</th>\n",
       "    </tr>\n",
       "  </thead>\n",
       "  <tbody>\n",
       "    <tr>\n",
       "      <th>0</th>\n",
       "      <td>0.0</td>\n",
       "      <td>-1.359807</td>\n",
       "      <td>-0.072781</td>\n",
       "      <td>2.536347</td>\n",
       "      <td>1.378155</td>\n",
       "      <td>-0.338321</td>\n",
       "      <td>0.462388</td>\n",
       "      <td>0.239599</td>\n",
       "      <td>0.098698</td>\n",
       "      <td>0.363787</td>\n",
       "      <td>...</td>\n",
       "      <td>-0.018307</td>\n",
       "      <td>0.277838</td>\n",
       "      <td>-0.110474</td>\n",
       "      <td>0.066928</td>\n",
       "      <td>0.128539</td>\n",
       "      <td>-0.189115</td>\n",
       "      <td>0.133558</td>\n",
       "      <td>-0.021053</td>\n",
       "      <td>149.62</td>\n",
       "      <td>0</td>\n",
       "    </tr>\n",
       "    <tr>\n",
       "      <th>1</th>\n",
       "      <td>0.0</td>\n",
       "      <td>1.191857</td>\n",
       "      <td>0.266151</td>\n",
       "      <td>0.166480</td>\n",
       "      <td>0.448154</td>\n",
       "      <td>0.060018</td>\n",
       "      <td>-0.082361</td>\n",
       "      <td>-0.078803</td>\n",
       "      <td>0.085102</td>\n",
       "      <td>-0.255425</td>\n",
       "      <td>...</td>\n",
       "      <td>-0.225775</td>\n",
       "      <td>-0.638672</td>\n",
       "      <td>0.101288</td>\n",
       "      <td>-0.339846</td>\n",
       "      <td>0.167170</td>\n",
       "      <td>0.125895</td>\n",
       "      <td>-0.008983</td>\n",
       "      <td>0.014724</td>\n",
       "      <td>2.69</td>\n",
       "      <td>0</td>\n",
       "    </tr>\n",
       "    <tr>\n",
       "      <th>2</th>\n",
       "      <td>1.0</td>\n",
       "      <td>-1.358354</td>\n",
       "      <td>-1.340163</td>\n",
       "      <td>1.773209</td>\n",
       "      <td>0.379780</td>\n",
       "      <td>-0.503198</td>\n",
       "      <td>1.800499</td>\n",
       "      <td>0.791461</td>\n",
       "      <td>0.247676</td>\n",
       "      <td>-1.514654</td>\n",
       "      <td>...</td>\n",
       "      <td>0.247998</td>\n",
       "      <td>0.771679</td>\n",
       "      <td>0.909412</td>\n",
       "      <td>-0.689281</td>\n",
       "      <td>-0.327642</td>\n",
       "      <td>-0.139097</td>\n",
       "      <td>-0.055353</td>\n",
       "      <td>-0.059752</td>\n",
       "      <td>378.66</td>\n",
       "      <td>0</td>\n",
       "    </tr>\n",
       "    <tr>\n",
       "      <th>3</th>\n",
       "      <td>1.0</td>\n",
       "      <td>-0.966272</td>\n",
       "      <td>-0.185226</td>\n",
       "      <td>1.792993</td>\n",
       "      <td>-0.863291</td>\n",
       "      <td>-0.010309</td>\n",
       "      <td>1.247203</td>\n",
       "      <td>0.237609</td>\n",
       "      <td>0.377436</td>\n",
       "      <td>-1.387024</td>\n",
       "      <td>...</td>\n",
       "      <td>-0.108300</td>\n",
       "      <td>0.005274</td>\n",
       "      <td>-0.190321</td>\n",
       "      <td>-1.175575</td>\n",
       "      <td>0.647376</td>\n",
       "      <td>-0.221929</td>\n",
       "      <td>0.062723</td>\n",
       "      <td>0.061458</td>\n",
       "      <td>123.50</td>\n",
       "      <td>0</td>\n",
       "    </tr>\n",
       "    <tr>\n",
       "      <th>4</th>\n",
       "      <td>2.0</td>\n",
       "      <td>-1.158233</td>\n",
       "      <td>0.877737</td>\n",
       "      <td>1.548718</td>\n",
       "      <td>0.403034</td>\n",
       "      <td>-0.407193</td>\n",
       "      <td>0.095921</td>\n",
       "      <td>0.592941</td>\n",
       "      <td>-0.270533</td>\n",
       "      <td>0.817739</td>\n",
       "      <td>...</td>\n",
       "      <td>-0.009431</td>\n",
       "      <td>0.798278</td>\n",
       "      <td>-0.137458</td>\n",
       "      <td>0.141267</td>\n",
       "      <td>-0.206010</td>\n",
       "      <td>0.502292</td>\n",
       "      <td>0.219422</td>\n",
       "      <td>0.215153</td>\n",
       "      <td>69.99</td>\n",
       "      <td>0</td>\n",
       "    </tr>\n",
       "  </tbody>\n",
       "</table>\n",
       "<p>5 rows × 31 columns</p>\n",
       "</div>"
      ],
      "text/plain": [
       "   Time        V1        V2        V3        V4        V5        V6        V7  \\\n",
       "0   0.0 -1.359807 -0.072781  2.536347  1.378155 -0.338321  0.462388  0.239599   \n",
       "1   0.0  1.191857  0.266151  0.166480  0.448154  0.060018 -0.082361 -0.078803   \n",
       "2   1.0 -1.358354 -1.340163  1.773209  0.379780 -0.503198  1.800499  0.791461   \n",
       "3   1.0 -0.966272 -0.185226  1.792993 -0.863291 -0.010309  1.247203  0.237609   \n",
       "4   2.0 -1.158233  0.877737  1.548718  0.403034 -0.407193  0.095921  0.592941   \n",
       "\n",
       "         V8        V9  ...       V21       V22       V23       V24       V25  \\\n",
       "0  0.098698  0.363787  ... -0.018307  0.277838 -0.110474  0.066928  0.128539   \n",
       "1  0.085102 -0.255425  ... -0.225775 -0.638672  0.101288 -0.339846  0.167170   \n",
       "2  0.247676 -1.514654  ...  0.247998  0.771679  0.909412 -0.689281 -0.327642   \n",
       "3  0.377436 -1.387024  ... -0.108300  0.005274 -0.190321 -1.175575  0.647376   \n",
       "4 -0.270533  0.817739  ... -0.009431  0.798278 -0.137458  0.141267 -0.206010   \n",
       "\n",
       "        V26       V27       V28  Amount  Class  \n",
       "0 -0.189115  0.133558 -0.021053  149.62      0  \n",
       "1  0.125895 -0.008983  0.014724    2.69      0  \n",
       "2 -0.139097 -0.055353 -0.059752  378.66      0  \n",
       "3 -0.221929  0.062723  0.061458  123.50      0  \n",
       "4  0.502292  0.219422  0.215153   69.99      0  \n",
       "\n",
       "[5 rows x 31 columns]"
      ]
     },
     "execution_count": 8,
     "metadata": {},
     "output_type": "execute_result"
    }
   ],
   "source": [
    "df.head()"
   ]
  },
  {
   "cell_type": "code",
   "execution_count": 10,
   "id": "ae244211-9d96-4509-9f93-4e2b48c771d4",
   "metadata": {},
   "outputs": [
    {
     "data": {
      "text/plain": [
       "(284807, 31)"
      ]
     },
     "execution_count": 10,
     "metadata": {},
     "output_type": "execute_result"
    }
   ],
   "source": [
    "df.shape   # Rows - 283726 , columns = 31"
   ]
  },
  {
   "cell_type": "code",
   "execution_count": 12,
   "id": "3ff4f73f-39cf-4105-bca1-0e5fdd932942",
   "metadata": {},
   "outputs": [
    {
     "name": "stdout",
     "output_type": "stream",
     "text": [
      "<class 'pandas.core.frame.DataFrame'>\n",
      "RangeIndex: 284807 entries, 0 to 284806\n",
      "Data columns (total 31 columns):\n",
      " #   Column  Non-Null Count   Dtype  \n",
      "---  ------  --------------   -----  \n",
      " 0   Time    284807 non-null  float64\n",
      " 1   V1      284807 non-null  float64\n",
      " 2   V2      284807 non-null  float64\n",
      " 3   V3      284807 non-null  float64\n",
      " 4   V4      284807 non-null  float64\n",
      " 5   V5      284807 non-null  float64\n",
      " 6   V6      284807 non-null  float64\n",
      " 7   V7      284807 non-null  float64\n",
      " 8   V8      284807 non-null  float64\n",
      " 9   V9      284807 non-null  float64\n",
      " 10  V10     284807 non-null  float64\n",
      " 11  V11     284807 non-null  float64\n",
      " 12  V12     284807 non-null  float64\n",
      " 13  V13     284807 non-null  float64\n",
      " 14  V14     284807 non-null  float64\n",
      " 15  V15     284807 non-null  float64\n",
      " 16  V16     284807 non-null  float64\n",
      " 17  V17     284807 non-null  float64\n",
      " 18  V18     284807 non-null  float64\n",
      " 19  V19     284807 non-null  float64\n",
      " 20  V20     284807 non-null  float64\n",
      " 21  V21     284807 non-null  float64\n",
      " 22  V22     284807 non-null  float64\n",
      " 23  V23     284807 non-null  float64\n",
      " 24  V24     284807 non-null  float64\n",
      " 25  V25     284807 non-null  float64\n",
      " 26  V26     284807 non-null  float64\n",
      " 27  V27     284807 non-null  float64\n",
      " 28  V28     284807 non-null  float64\n",
      " 29  Amount  284807 non-null  float64\n",
      " 30  Class   284807 non-null  int64  \n",
      "dtypes: float64(30), int64(1)\n",
      "memory usage: 67.4 MB\n"
     ]
    }
   ],
   "source": [
    "df.info()    # exploring rows and columns"
   ]
  },
  {
   "cell_type": "code",
   "execution_count": 14,
   "id": "dba627c0-43db-446b-9cf0-dd86ab41194f",
   "metadata": {},
   "outputs": [],
   "source": [
    "x = df.iloc[:,1:30].values   # assigned the values of columns 1 to 29 in x \n",
    "y = df.iloc[:,30].values     # assigned the values of column 30 to y"
   ]
  },
  {
   "cell_type": "code",
   "execution_count": 16,
   "id": "56278a47-1f16-49ed-b741-78f07dcb02d5",
   "metadata": {},
   "outputs": [
    {
     "name": "stdout",
     "output_type": "stream",
     "text": [
      "Input Range: (284807, 29)\n",
      "Output Range: (284807,)\n"
     ]
    }
   ],
   "source": [
    "print('Input Range:',x.shape)\n",
    "print('Output Range:',y.shape)"
   ]
  },
  {
   "cell_type": "code",
   "execution_count": 18,
   "id": "a5b43af7-12f4-49d6-971c-ded258e6c923",
   "metadata": {},
   "outputs": [],
   "source": [
    "df1 = df.copy()     # creating copy "
   ]
  },
  {
   "cell_type": "code",
   "execution_count": 20,
   "id": "db3b271e-b73d-4ef3-a497-c6d17883a113",
   "metadata": {},
   "outputs": [
    {
     "data": {
      "text/plain": [
       "1081"
      ]
     },
     "execution_count": 20,
     "metadata": {},
     "output_type": "execute_result"
    }
   ],
   "source": [
    "df.duplicated().sum()   # checking duplicates"
   ]
  },
  {
   "cell_type": "code",
   "execution_count": 22,
   "id": "ae865e4d-db15-4e09-8696-25d88ae306d2",
   "metadata": {},
   "outputs": [],
   "source": [
    "df.drop_duplicates(inplace=True)   # droping the duplicates"
   ]
  },
  {
   "cell_type": "code",
   "execution_count": 24,
   "id": "b717011c-4dd2-4436-96c5-aecdfd2ba303",
   "metadata": {},
   "outputs": [
    {
     "data": {
      "text/plain": [
       "Time      0\n",
       "V1        0\n",
       "V2        0\n",
       "V3        0\n",
       "V4        0\n",
       "V5        0\n",
       "V6        0\n",
       "V7        0\n",
       "V8        0\n",
       "V9        0\n",
       "V10       0\n",
       "V11       0\n",
       "V12       0\n",
       "V13       0\n",
       "V14       0\n",
       "V15       0\n",
       "V16       0\n",
       "V17       0\n",
       "V18       0\n",
       "V19       0\n",
       "V20       0\n",
       "V21       0\n",
       "V22       0\n",
       "V23       0\n",
       "V24       0\n",
       "V25       0\n",
       "V26       0\n",
       "V27       0\n",
       "V28       0\n",
       "Amount    0\n",
       "Class     0\n",
       "dtype: int64"
      ]
     },
     "execution_count": 24,
     "metadata": {},
     "output_type": "execute_result"
    }
   ],
   "source": [
    "df.isnull().sum()   # checking null values"
   ]
  },
  {
   "cell_type": "code",
   "execution_count": 26,
   "id": "5e62987b-0ad3-4c0d-b8b1-4b92cef99248",
   "metadata": {},
   "outputs": [
    {
     "data": {
      "text/plain": [
       "Class\n",
       "0    283253\n",
       "1       473\n",
       "Name: count, dtype: int64"
      ]
     },
     "execution_count": 26,
     "metadata": {},
     "output_type": "execute_result"
    }
   ],
   "source": [
    "df.Class.value_counts()   # checking the value count of class"
   ]
  },
  {
   "cell_type": "raw",
   "id": "e105cd71-cdd9-4a74-a19e-b00ff08ea8c5",
   "metadata": {},
   "source": [
    "It is highly imbalanced data"
   ]
  },
  {
   "cell_type": "code",
   "execution_count": 28,
   "id": "8dd9e0d7-40d3-489c-8b73-0e44a55da26d",
   "metadata": {},
   "outputs": [
    {
     "ename": "AttributeError",
     "evalue": "'numpy.int64' object has no attribute 'startswith'",
     "output_type": "error",
     "traceback": [
      "\u001b[1;31m---------------------------------------------------------------------------\u001b[0m",
      "\u001b[1;31mAttributeError\u001b[0m                            Traceback (most recent call last)",
      "Cell \u001b[1;32mIn[28], line 1\u001b[0m\n\u001b[1;32m----> 1\u001b[0m sns\u001b[38;5;241m.\u001b[39mcountplot(x\u001b[38;5;241m=\u001b[39mdf[\u001b[38;5;124m'\u001b[39m\u001b[38;5;124mClass\u001b[39m\u001b[38;5;124m'\u001b[39m],hue\u001b[38;5;241m=\u001b[39mdf[\u001b[38;5;124m'\u001b[39m\u001b[38;5;124mClass\u001b[39m\u001b[38;5;124m'\u001b[39m])\n\u001b[0;32m      2\u001b[0m plt\u001b[38;5;241m.\u001b[39mtitle(\u001b[38;5;124m'\u001b[39m\u001b[38;5;124mclass Distribution of Transaction \u001b[39m\u001b[38;5;124m'\u001b[39m)   \n\u001b[0;32m      3\u001b[0m plt\u001b[38;5;241m.\u001b[39mshow()\n",
      "File \u001b[1;32m~\\anaconda3\\Lib\\site-packages\\seaborn\\categorical.py:2955\u001b[0m, in \u001b[0;36mcountplot\u001b[1;34m(data, x, y, hue, order, hue_order, orient, color, palette, saturation, width, dodge, ax, **kwargs)\u001b[0m\n\u001b[0;32m   2952\u001b[0m \u001b[38;5;28;01mif\u001b[39;00m ax \u001b[38;5;129;01mis\u001b[39;00m \u001b[38;5;28;01mNone\u001b[39;00m:\n\u001b[0;32m   2953\u001b[0m     ax \u001b[38;5;241m=\u001b[39m plt\u001b[38;5;241m.\u001b[39mgca()\n\u001b[1;32m-> 2955\u001b[0m plotter\u001b[38;5;241m.\u001b[39mplot(ax, kwargs)\n\u001b[0;32m   2956\u001b[0m \u001b[38;5;28;01mreturn\u001b[39;00m ax\n",
      "File \u001b[1;32m~\\anaconda3\\Lib\\site-packages\\seaborn\\categorical.py:1587\u001b[0m, in \u001b[0;36m_BarPlotter.plot\u001b[1;34m(self, ax, bar_kws)\u001b[0m\n\u001b[0;32m   1585\u001b[0m \u001b[38;5;250m\u001b[39m\u001b[38;5;124;03m\"\"\"Make the plot.\"\"\"\u001b[39;00m\n\u001b[0;32m   1586\u001b[0m \u001b[38;5;28mself\u001b[39m\u001b[38;5;241m.\u001b[39mdraw_bars(ax, bar_kws)\n\u001b[1;32m-> 1587\u001b[0m \u001b[38;5;28mself\u001b[39m\u001b[38;5;241m.\u001b[39mannotate_axes(ax)\n\u001b[0;32m   1588\u001b[0m \u001b[38;5;28;01mif\u001b[39;00m \u001b[38;5;28mself\u001b[39m\u001b[38;5;241m.\u001b[39morient \u001b[38;5;241m==\u001b[39m \u001b[38;5;124m\"\u001b[39m\u001b[38;5;124mh\u001b[39m\u001b[38;5;124m\"\u001b[39m:\n\u001b[0;32m   1589\u001b[0m     ax\u001b[38;5;241m.\u001b[39minvert_yaxis()\n",
      "File \u001b[1;32m~\\anaconda3\\Lib\\site-packages\\seaborn\\categorical.py:767\u001b[0m, in \u001b[0;36m_CategoricalPlotter.annotate_axes\u001b[1;34m(self, ax)\u001b[0m\n\u001b[0;32m    764\u001b[0m     ax\u001b[38;5;241m.\u001b[39mset_ylim(\u001b[38;5;241m-\u001b[39m\u001b[38;5;241m.5\u001b[39m, \u001b[38;5;28mlen\u001b[39m(\u001b[38;5;28mself\u001b[39m\u001b[38;5;241m.\u001b[39mplot_data) \u001b[38;5;241m-\u001b[39m \u001b[38;5;241m.5\u001b[39m, auto\u001b[38;5;241m=\u001b[39m\u001b[38;5;28;01mNone\u001b[39;00m)\n\u001b[0;32m    766\u001b[0m \u001b[38;5;28;01mif\u001b[39;00m \u001b[38;5;28mself\u001b[39m\u001b[38;5;241m.\u001b[39mhue_names \u001b[38;5;129;01mis\u001b[39;00m \u001b[38;5;129;01mnot\u001b[39;00m \u001b[38;5;28;01mNone\u001b[39;00m:\n\u001b[1;32m--> 767\u001b[0m     ax\u001b[38;5;241m.\u001b[39mlegend(loc\u001b[38;5;241m=\u001b[39m\u001b[38;5;124m\"\u001b[39m\u001b[38;5;124mbest\u001b[39m\u001b[38;5;124m\"\u001b[39m, title\u001b[38;5;241m=\u001b[39m\u001b[38;5;28mself\u001b[39m\u001b[38;5;241m.\u001b[39mhue_title)\n",
      "File \u001b[1;32m~\\anaconda3\\Lib\\site-packages\\matplotlib\\axes\\_axes.py:322\u001b[0m, in \u001b[0;36mAxes.legend\u001b[1;34m(self, *args, **kwargs)\u001b[0m\n\u001b[0;32m    204\u001b[0m \u001b[38;5;129m@_docstring\u001b[39m\u001b[38;5;241m.\u001b[39mdedent_interpd\n\u001b[0;32m    205\u001b[0m \u001b[38;5;28;01mdef\u001b[39;00m \u001b[38;5;21mlegend\u001b[39m(\u001b[38;5;28mself\u001b[39m, \u001b[38;5;241m*\u001b[39margs, \u001b[38;5;241m*\u001b[39m\u001b[38;5;241m*\u001b[39mkwargs):\n\u001b[0;32m    206\u001b[0m \u001b[38;5;250m    \u001b[39m\u001b[38;5;124;03m\"\"\"\u001b[39;00m\n\u001b[0;32m    207\u001b[0m \u001b[38;5;124;03m    Place a legend on the Axes.\u001b[39;00m\n\u001b[0;32m    208\u001b[0m \n\u001b[1;32m   (...)\u001b[0m\n\u001b[0;32m    320\u001b[0m \u001b[38;5;124;03m    .. plot:: gallery/text_labels_and_annotations/legend.py\u001b[39;00m\n\u001b[0;32m    321\u001b[0m \u001b[38;5;124;03m    \"\"\"\u001b[39;00m\n\u001b[1;32m--> 322\u001b[0m     handles, labels, kwargs \u001b[38;5;241m=\u001b[39m mlegend\u001b[38;5;241m.\u001b[39m_parse_legend_args([\u001b[38;5;28mself\u001b[39m], \u001b[38;5;241m*\u001b[39margs, \u001b[38;5;241m*\u001b[39m\u001b[38;5;241m*\u001b[39mkwargs)\n\u001b[0;32m    323\u001b[0m     \u001b[38;5;28mself\u001b[39m\u001b[38;5;241m.\u001b[39mlegend_ \u001b[38;5;241m=\u001b[39m mlegend\u001b[38;5;241m.\u001b[39mLegend(\u001b[38;5;28mself\u001b[39m, handles, labels, \u001b[38;5;241m*\u001b[39m\u001b[38;5;241m*\u001b[39mkwargs)\n\u001b[0;32m    324\u001b[0m     \u001b[38;5;28mself\u001b[39m\u001b[38;5;241m.\u001b[39mlegend_\u001b[38;5;241m.\u001b[39m_remove_method \u001b[38;5;241m=\u001b[39m \u001b[38;5;28mself\u001b[39m\u001b[38;5;241m.\u001b[39m_remove_legend\n",
      "File \u001b[1;32m~\\anaconda3\\Lib\\site-packages\\matplotlib\\legend.py:1361\u001b[0m, in \u001b[0;36m_parse_legend_args\u001b[1;34m(axs, handles, labels, *args, **kwargs)\u001b[0m\n\u001b[0;32m   1357\u001b[0m     handles \u001b[38;5;241m=\u001b[39m [handle \u001b[38;5;28;01mfor\u001b[39;00m handle, label\n\u001b[0;32m   1358\u001b[0m                \u001b[38;5;129;01min\u001b[39;00m \u001b[38;5;28mzip\u001b[39m(_get_legend_handles(axs, handlers), labels)]\n\u001b[0;32m   1360\u001b[0m \u001b[38;5;28;01melif\u001b[39;00m \u001b[38;5;28mlen\u001b[39m(args) \u001b[38;5;241m==\u001b[39m \u001b[38;5;241m0\u001b[39m:  \u001b[38;5;66;03m# 0 args: automatically detect labels and handles.\u001b[39;00m\n\u001b[1;32m-> 1361\u001b[0m     handles, labels \u001b[38;5;241m=\u001b[39m _get_legend_handles_labels(axs, handlers)\n\u001b[0;32m   1362\u001b[0m     \u001b[38;5;28;01mif\u001b[39;00m \u001b[38;5;129;01mnot\u001b[39;00m handles:\n\u001b[0;32m   1363\u001b[0m         log\u001b[38;5;241m.\u001b[39mwarning(\n\u001b[0;32m   1364\u001b[0m             \u001b[38;5;124m\"\u001b[39m\u001b[38;5;124mNo artists with labels found to put in legend.  Note that \u001b[39m\u001b[38;5;124m\"\u001b[39m\n\u001b[0;32m   1365\u001b[0m             \u001b[38;5;124m\"\u001b[39m\u001b[38;5;124martists whose label start with an underscore are ignored \u001b[39m\u001b[38;5;124m\"\u001b[39m\n\u001b[0;32m   1366\u001b[0m             \u001b[38;5;124m\"\u001b[39m\u001b[38;5;124mwhen legend() is called with no argument.\u001b[39m\u001b[38;5;124m\"\u001b[39m)\n",
      "File \u001b[1;32m~\\anaconda3\\Lib\\site-packages\\matplotlib\\legend.py:1291\u001b[0m, in \u001b[0;36m_get_legend_handles_labels\u001b[1;34m(axs, legend_handler_map)\u001b[0m\n\u001b[0;32m   1289\u001b[0m \u001b[38;5;28;01mfor\u001b[39;00m handle \u001b[38;5;129;01min\u001b[39;00m _get_legend_handles(axs, legend_handler_map):\n\u001b[0;32m   1290\u001b[0m     label \u001b[38;5;241m=\u001b[39m handle\u001b[38;5;241m.\u001b[39mget_label()\n\u001b[1;32m-> 1291\u001b[0m     \u001b[38;5;28;01mif\u001b[39;00m label \u001b[38;5;129;01mand\u001b[39;00m \u001b[38;5;129;01mnot\u001b[39;00m label\u001b[38;5;241m.\u001b[39mstartswith(\u001b[38;5;124m'\u001b[39m\u001b[38;5;124m_\u001b[39m\u001b[38;5;124m'\u001b[39m):\n\u001b[0;32m   1292\u001b[0m         handles\u001b[38;5;241m.\u001b[39mappend(handle)\n\u001b[0;32m   1293\u001b[0m         labels\u001b[38;5;241m.\u001b[39mappend(label)\n",
      "\u001b[1;31mAttributeError\u001b[0m: 'numpy.int64' object has no attribute 'startswith'"
     ]
    },
    {
     "data": {
      "image/png": "[encoded data removed]",
      "text/plain": [
       "<Figure size 640x480 with 1 Axes>"
      ]
     },
     "metadata": {},
     "output_type": "display_data"
    }
   ],
   "source": [
    "sns.countplot(x=df['Class'],hue=df['Class'])\n",
    "plt.title('class Distribution of Transaction ')   \n",
    "plt.show()   "
   ]
  },
  {
   "cell_type": "code",
   "execution_count": 30,
   "id": "4753817a-981b-4fdd-9f08-eeac6ae9701e",
   "metadata": {},
   "outputs": [],
   "source": [
    "# normal transaction - 0\n",
    "# fraudulent transaction - 1"
   ]
  },
  {
   "cell_type": "markdown",
   "id": "742d35ac-88a4-4bcb-bb22-a66431bc47f3",
   "metadata": {},
   "source": [
    "# Calculating the mean of imbalanced data"
   ]
  },
  {
   "cell_type": "code",
   "execution_count": 33,
   "id": "fca2c095-bca7-45f7-98ab-2d9948bfccc2",
   "metadata": {},
   "outputs": [
    {
     "data": {
      "text/html": [
       "<div>\n",
       "<style scoped>\n",
       "    .dataframe tbody tr th:only-of-type {\n",
       "        vertical-align: middle;\n",
       "    }\n",
       "\n",
       "    .dataframe tbody tr th {\n",
       "        vertical-align: top;\n",
       "    }\n",
       "\n",
       "    .dataframe thead th {\n",
       "        text-align: right;\n",
       "    }\n",
       "</style>\n",
       "<table border=\"1\" class=\"dataframe\">\n",
       "  <thead>\n",
       "    <tr style=\"text-align: right;\">\n",
       "      <th></th>\n",
       "      <th>Time</th>\n",
       "      <th>V1</th>\n",
       "      <th>V2</th>\n",
       "      <th>V3</th>\n",
       "      <th>V4</th>\n",
       "      <th>V5</th>\n",
       "      <th>V6</th>\n",
       "      <th>V7</th>\n",
       "      <th>V8</th>\n",
       "      <th>V9</th>\n",
       "      <th>...</th>\n",
       "      <th>V20</th>\n",
       "      <th>V21</th>\n",
       "      <th>V22</th>\n",
       "      <th>V23</th>\n",
       "      <th>V24</th>\n",
       "      <th>V25</th>\n",
       "      <th>V26</th>\n",
       "      <th>V27</th>\n",
       "      <th>V28</th>\n",
       "      <th>Amount</th>\n",
       "    </tr>\n",
       "    <tr>\n",
       "      <th>Class</th>\n",
       "      <th></th>\n",
       "      <th></th>\n",
       "      <th></th>\n",
       "      <th></th>\n",
       "      <th></th>\n",
       "      <th></th>\n",
       "      <th></th>\n",
       "      <th></th>\n",
       "      <th></th>\n",
       "      <th></th>\n",
       "      <th></th>\n",
       "      <th></th>\n",
       "      <th></th>\n",
       "      <th></th>\n",
       "      <th></th>\n",
       "      <th></th>\n",
       "      <th></th>\n",
       "      <th></th>\n",
       "      <th></th>\n",
       "      <th></th>\n",
       "      <th></th>\n",
       "    </tr>\n",
       "  </thead>\n",
       "  <tbody>\n",
       "    <tr>\n",
       "      <th>0</th>\n",
       "      <td>94835.058093</td>\n",
       "      <td>0.013439</td>\n",
       "      <td>-0.009829</td>\n",
       "      <td>0.012853</td>\n",
       "      <td>-0.010440</td>\n",
       "      <td>0.006769</td>\n",
       "      <td>0.001251</td>\n",
       "      <td>0.010447</td>\n",
       "      <td>-0.002448</td>\n",
       "      <td>0.002613</td>\n",
       "      <td>...</td>\n",
       "      <td>-0.000489</td>\n",
       "      <td>-0.00115</td>\n",
       "      <td>-0.000160</td>\n",
       "      <td>0.000360</td>\n",
       "      <td>0.000393</td>\n",
       "      <td>-0.000301</td>\n",
       "      <td>0.000065</td>\n",
       "      <td>0.001409</td>\n",
       "      <td>0.000418</td>\n",
       "      <td>88.413575</td>\n",
       "    </tr>\n",
       "    <tr>\n",
       "      <th>1</th>\n",
       "      <td>80450.513742</td>\n",
       "      <td>-4.498280</td>\n",
       "      <td>3.405965</td>\n",
       "      <td>-6.729599</td>\n",
       "      <td>4.472591</td>\n",
       "      <td>-2.957197</td>\n",
       "      <td>-1.432518</td>\n",
       "      <td>-5.175912</td>\n",
       "      <td>0.953255</td>\n",
       "      <td>-2.522124</td>\n",
       "      <td>...</td>\n",
       "      <td>0.405043</td>\n",
       "      <td>0.46655</td>\n",
       "      <td>0.086639</td>\n",
       "      <td>-0.096464</td>\n",
       "      <td>-0.106643</td>\n",
       "      <td>0.040615</td>\n",
       "      <td>0.050456</td>\n",
       "      <td>0.213774</td>\n",
       "      <td>0.078270</td>\n",
       "      <td>123.871860</td>\n",
       "    </tr>\n",
       "  </tbody>\n",
       "</table>\n",
       "<p>2 rows × 30 columns</p>\n",
       "</div>"
      ],
      "text/plain": [
       "               Time        V1        V2        V3        V4        V5  \\\n",
       "Class                                                                   \n",
       "0      94835.058093  0.013439 -0.009829  0.012853 -0.010440  0.006769   \n",
       "1      80450.513742 -4.498280  3.405965 -6.729599  4.472591 -2.957197   \n",
       "\n",
       "             V6        V7        V8        V9  ...       V20      V21  \\\n",
       "Class                                          ...                      \n",
       "0      0.001251  0.010447 -0.002448  0.002613  ... -0.000489 -0.00115   \n",
       "1     -1.432518 -5.175912  0.953255 -2.522124  ...  0.405043  0.46655   \n",
       "\n",
       "            V22       V23       V24       V25       V26       V27       V28  \\\n",
       "Class                                                                         \n",
       "0     -0.000160  0.000360  0.000393 -0.000301  0.000065  0.001409  0.000418   \n",
       "1      0.086639 -0.096464 -0.106643  0.040615  0.050456  0.213774  0.078270   \n",
       "\n",
       "           Amount  \n",
       "Class              \n",
       "0       88.413575  \n",
       "1      123.871860  \n",
       "\n",
       "[2 rows x 30 columns]"
      ]
     },
     "execution_count": 33,
     "metadata": {},
     "output_type": "execute_result"
    }
   ],
   "source": [
    "df.groupby('Class').mean()"
   ]
  },
  {
   "cell_type": "markdown",
   "id": "51c9ff44-f1b2-4d26-a262-d345086ea980",
   "metadata": {},
   "source": [
    "# Performing undersampling"
   ]
  },
  {
   "cell_type": "code",
   "execution_count": 50,
   "id": "792bca4b-3530-42bf-a641-0c3dabd7a99f",
   "metadata": {},
   "outputs": [
    {
     "name": "stdout",
     "output_type": "stream",
     "text": [
      "Variable               Type         Data/Info\n",
      "---------------------------------------------\n",
      "dataframe_columns      function     <function dataframe_colum<...>ns at 0x00000230028E87C0>\n",
      "dataframe_hash         function     <function dataframe_hash at 0x000002301909F740>\n",
      "df                     DataFrame                Time         <...>283726 rows x 31 columns]\n",
      "df1                    DataFrame                Time         <...>284807 rows x 31 columns]\n",
      "dtypes_str             function     <function dtypes_str at 0x00000230028EBF60>\n",
      "get_dataframes         function     <function get_dataframes at 0x000002301909F6A0>\n",
      "getpass                module       <module 'getpass' from 'C<...>conda3\\\\Lib\\\\getpass.py'>\n",
      "hashlib                module       <module 'hashlib' from 'C<...>conda3\\\\Lib\\\\hashlib.py'>\n",
      "import_pandas_safely   function     <function import_pandas_s<...>ly at 0x000002301909D080>\n",
      "is_data_frame          function     <function is_data_frame at 0x00000230028E89A0>\n",
      "json                   module       <module 'json' from 'C:\\\\<...>\\Lib\\\\json\\\\__init__.py'>\n",
      "np                     module       <module 'numpy' from 'C:\\<...>ges\\\\numpy\\\\__init__.py'>\n",
      "pd                     module       <module 'pandas' from 'C:<...>es\\\\pandas\\\\__init__.py'>\n",
      "plt                    module       <module 'matplotlib.pyplo<...>\\\\matplotlib\\\\pyplot.py'>\n",
      "sns                    module       <module 'seaborn' from 'C<...>s\\\\seaborn\\\\__init__.py'>\n",
      "x                      ndarray      284807x29: 8259403 elems, type `float64`, 66075224 bytes (63.014244079589844 Mb)\n",
      "y                      ndarray      284807: 284807 elems, type `int64`, 2278456 bytes (2.1729049682617188 Mb)\n"
     ]
    }
   ],
   "source": [
    "%whos\n"
   ]
  },
  {
   "cell_type": "code",
   "execution_count": 52,
   "id": "1fd60ee9-7142-441c-9d6b-21dff2910337",
   "metadata": {},
   "outputs": [],
   "source": [
    "legit_transaction = df[df['Class'] == 0]\n"
   ]
  },
  {
   "cell_type": "code",
   "execution_count": 54,
   "id": "a37c6580-161c-4e01-9cbe-e15d43df729a",
   "metadata": {},
   "outputs": [
    {
     "data": {
      "text/plain": [
       "(473, 31)"
      ]
     },
     "execution_count": 54,
     "metadata": {},
     "output_type": "execute_result"
    }
   ],
   "source": [
    "legit_transaction_sample = legit_transaction.sample(n=473)\n",
    "legit_transaction_sample.shape\n"
   ]
  },
  {
   "cell_type": "code",
   "execution_count": 58,
   "id": "69962a85-5e62-4471-9592-2f9fb8835742",
   "metadata": {},
   "outputs": [],
   "source": [
    "fraud_transaction = df[df['Class'] == 1]\n"
   ]
  },
  {
   "cell_type": "code",
   "execution_count": 60,
   "id": "d1e8b0b1-fcf8-472f-8f9f-1561e36045c9",
   "metadata": {},
   "outputs": [
    {
     "name": "stdout",
     "output_type": "stream",
     "text": [
      "[ True  True  True  True  True  True  True  True  True  True  True  True\n",
      "  True  True  True  True  True  True  True  True  True  True  True  True\n",
      "  True  True  True  True  True  True  True]\n"
     ]
    }
   ],
   "source": [
    "print(legit_transaction_sample.columns == fraud_transaction.columns)\n"
   ]
  },
  {
   "cell_type": "code",
   "execution_count": 62,
   "id": "274a273e-5f03-4c04-9a9c-e5d5810c73fe",
   "metadata": {},
   "outputs": [
    {
     "data": {
      "text/html": [
       "<div>\n",
       "<style scoped>\n",
       "    .dataframe tbody tr th:only-of-type {\n",
       "        vertical-align: middle;\n",
       "    }\n",
       "\n",
       "    .dataframe tbody tr th {\n",
       "        vertical-align: top;\n",
       "    }\n",
       "\n",
       "    .dataframe thead th {\n",
       "        text-align: right;\n",
       "    }\n",
       "</style>\n",
       "<table border=\"1\" class=\"dataframe\">\n",
       "  <thead>\n",
       "    <tr style=\"text-align: right;\">\n",
       "      <th></th>\n",
       "      <th>Time</th>\n",
       "      <th>V1</th>\n",
       "      <th>V2</th>\n",
       "      <th>V3</th>\n",
       "      <th>V4</th>\n",
       "      <th>V5</th>\n",
       "      <th>V6</th>\n",
       "      <th>V7</th>\n",
       "      <th>V8</th>\n",
       "      <th>V9</th>\n",
       "      <th>...</th>\n",
       "      <th>V21</th>\n",
       "      <th>V22</th>\n",
       "      <th>V23</th>\n",
       "      <th>V24</th>\n",
       "      <th>V25</th>\n",
       "      <th>V26</th>\n",
       "      <th>V27</th>\n",
       "      <th>V28</th>\n",
       "      <th>Amount</th>\n",
       "      <th>Class</th>\n",
       "    </tr>\n",
       "  </thead>\n",
       "  <tbody>\n",
       "    <tr>\n",
       "      <th>108886</th>\n",
       "      <td>71120.0</td>\n",
       "      <td>0.854555</td>\n",
       "      <td>-1.036422</td>\n",
       "      <td>0.500700</td>\n",
       "      <td>0.698712</td>\n",
       "      <td>-1.166085</td>\n",
       "      <td>-0.116175</td>\n",
       "      <td>-0.267995</td>\n",
       "      <td>-0.008144</td>\n",
       "      <td>-0.849884</td>\n",
       "      <td>...</td>\n",
       "      <td>-0.437836</td>\n",
       "      <td>-1.129365</td>\n",
       "      <td>-0.089390</td>\n",
       "      <td>0.276860</td>\n",
       "      <td>0.301894</td>\n",
       "      <td>-0.564008</td>\n",
       "      <td>0.020580</td>\n",
       "      <td>0.058523</td>\n",
       "      <td>219.42</td>\n",
       "      <td>0</td>\n",
       "    </tr>\n",
       "    <tr>\n",
       "      <th>63060</th>\n",
       "      <td>50539.0</td>\n",
       "      <td>-2.514891</td>\n",
       "      <td>0.433135</td>\n",
       "      <td>0.014455</td>\n",
       "      <td>-0.432482</td>\n",
       "      <td>-1.998951</td>\n",
       "      <td>0.132865</td>\n",
       "      <td>-0.077610</td>\n",
       "      <td>1.148167</td>\n",
       "      <td>0.522381</td>\n",
       "      <td>...</td>\n",
       "      <td>-0.114909</td>\n",
       "      <td>-0.128898</td>\n",
       "      <td>0.417214</td>\n",
       "      <td>-0.051977</td>\n",
       "      <td>-0.699306</td>\n",
       "      <td>0.671165</td>\n",
       "      <td>-0.180941</td>\n",
       "      <td>-0.114031</td>\n",
       "      <td>194.35</td>\n",
       "      <td>0</td>\n",
       "    </tr>\n",
       "    <tr>\n",
       "      <th>191806</th>\n",
       "      <td>129415.0</td>\n",
       "      <td>0.618606</td>\n",
       "      <td>0.786401</td>\n",
       "      <td>-2.672958</td>\n",
       "      <td>0.020681</td>\n",
       "      <td>3.075941</td>\n",
       "      <td>3.629842</td>\n",
       "      <td>0.062101</td>\n",
       "      <td>-1.024825</td>\n",
       "      <td>-0.704039</td>\n",
       "      <td>...</td>\n",
       "      <td>1.727217</td>\n",
       "      <td>0.053016</td>\n",
       "      <td>-0.090547</td>\n",
       "      <td>0.707946</td>\n",
       "      <td>0.247061</td>\n",
       "      <td>-0.389554</td>\n",
       "      <td>0.397034</td>\n",
       "      <td>0.341352</td>\n",
       "      <td>59.70</td>\n",
       "      <td>0</td>\n",
       "    </tr>\n",
       "    <tr>\n",
       "      <th>175413</th>\n",
       "      <td>122323.0</td>\n",
       "      <td>-0.201060</td>\n",
       "      <td>-0.027179</td>\n",
       "      <td>-1.223926</td>\n",
       "      <td>0.113830</td>\n",
       "      <td>0.764265</td>\n",
       "      <td>-0.611173</td>\n",
       "      <td>1.896642</td>\n",
       "      <td>-0.444546</td>\n",
       "      <td>-2.435352</td>\n",
       "      <td>...</td>\n",
       "      <td>0.265047</td>\n",
       "      <td>0.972096</td>\n",
       "      <td>0.141812</td>\n",
       "      <td>-0.409425</td>\n",
       "      <td>-0.076687</td>\n",
       "      <td>-0.220547</td>\n",
       "      <td>0.156555</td>\n",
       "      <td>0.225546</td>\n",
       "      <td>206.65</td>\n",
       "      <td>0</td>\n",
       "    </tr>\n",
       "    <tr>\n",
       "      <th>47676</th>\n",
       "      <td>43305.0</td>\n",
       "      <td>-1.647808</td>\n",
       "      <td>0.256453</td>\n",
       "      <td>1.346562</td>\n",
       "      <td>1.124777</td>\n",
       "      <td>-1.429680</td>\n",
       "      <td>0.849634</td>\n",
       "      <td>1.093247</td>\n",
       "      <td>0.755807</td>\n",
       "      <td>-0.531582</td>\n",
       "      <td>...</td>\n",
       "      <td>0.049085</td>\n",
       "      <td>-0.389701</td>\n",
       "      <td>0.666888</td>\n",
       "      <td>0.116939</td>\n",
       "      <td>0.358890</td>\n",
       "      <td>-0.396193</td>\n",
       "      <td>0.102788</td>\n",
       "      <td>0.090421</td>\n",
       "      <td>339.00</td>\n",
       "      <td>0</td>\n",
       "    </tr>\n",
       "  </tbody>\n",
       "</table>\n",
       "<p>5 rows × 31 columns</p>\n",
       "</div>"
      ],
      "text/plain": [
       "            Time        V1        V2        V3        V4        V5        V6  \\\n",
       "108886   71120.0  0.854555 -1.036422  0.500700  0.698712 -1.166085 -0.116175   \n",
       "63060    50539.0 -2.514891  0.433135  0.014455 -0.432482 -1.998951  0.132865   \n",
       "191806  129415.0  0.618606  0.786401 -2.672958  0.020681  3.075941  3.629842   \n",
       "175413  122323.0 -0.201060 -0.027179 -1.223926  0.113830  0.764265 -0.611173   \n",
       "47676    43305.0 -1.647808  0.256453  1.346562  1.124777 -1.429680  0.849634   \n",
       "\n",
       "              V7        V8        V9  ...       V21       V22       V23  \\\n",
       "108886 -0.267995 -0.008144 -0.849884  ... -0.437836 -1.129365 -0.089390   \n",
       "63060  -0.077610  1.148167  0.522381  ... -0.114909 -0.128898  0.417214   \n",
       "191806  0.062101 -1.024825 -0.704039  ...  1.727217  0.053016 -0.090547   \n",
       "175413  1.896642 -0.444546 -2.435352  ...  0.265047  0.972096  0.141812   \n",
       "47676   1.093247  0.755807 -0.531582  ...  0.049085 -0.389701  0.666888   \n",
       "\n",
       "             V24       V25       V26       V27       V28  Amount  Class  \n",
       "108886  0.276860  0.301894 -0.564008  0.020580  0.058523  219.42      0  \n",
       "63060  -0.051977 -0.699306  0.671165 -0.180941 -0.114031  194.35      0  \n",
       "191806  0.707946  0.247061 -0.389554  0.397034  0.341352   59.70      0  \n",
       "175413 -0.409425 -0.076687 -0.220547  0.156555  0.225546  206.65      0  \n",
       "47676   0.116939  0.358890 -0.396193  0.102788  0.090421  339.00      0  \n",
       "\n",
       "[5 rows x 31 columns]"
      ]
     },
     "execution_count": 62,
     "metadata": {},
     "output_type": "execute_result"
    }
   ],
   "source": [
    "df = pd.concat([legit_transaction_sample,fraud_transaction],axis=0)    # concat \n",
    "df.head()"
   ]
  },
  {
   "cell_type": "code",
   "execution_count": 64,
   "id": "5df2a0e8-e5fe-4aaa-9ce2-bdb5d1390e82",
   "metadata": {},
   "outputs": [
    {
     "data": {
      "text/plain": [
       "Class\n",
       "0    473\n",
       "1    473\n",
       "Name: count, dtype: int64"
      ]
     },
     "execution_count": 64,
     "metadata": {},
     "output_type": "execute_result"
    }
   ],
   "source": [
    "df.Class.value_counts()     # value count after undersampling"
   ]
  },
  {
   "cell_type": "markdown",
   "id": "44841629-a31a-443e-961b-73efa8381162",
   "metadata": {},
   "source": [
    "# Checking mean for both the transaction after undersampling process"
   ]
  },
  {
   "cell_type": "code",
   "execution_count": 67,
   "id": "31447996-1964-4505-acb6-17677c79a5bb",
   "metadata": {},
   "outputs": [
    {
     "data": {
      "text/html": [
       "<div>\n",
       "<style scoped>\n",
       "    .dataframe tbody tr th:only-of-type {\n",
       "        vertical-align: middle;\n",
       "    }\n",
       "\n",
       "    .dataframe tbody tr th {\n",
       "        vertical-align: top;\n",
       "    }\n",
       "\n",
       "    .dataframe thead th {\n",
       "        text-align: right;\n",
       "    }\n",
       "</style>\n",
       "<table border=\"1\" class=\"dataframe\">\n",
       "  <thead>\n",
       "    <tr style=\"text-align: right;\">\n",
       "      <th></th>\n",
       "      <th>Time</th>\n",
       "      <th>V1</th>\n",
       "      <th>V2</th>\n",
       "      <th>V3</th>\n",
       "      <th>V4</th>\n",
       "      <th>V5</th>\n",
       "      <th>V6</th>\n",
       "      <th>V7</th>\n",
       "      <th>V8</th>\n",
       "      <th>V9</th>\n",
       "      <th>...</th>\n",
       "      <th>V20</th>\n",
       "      <th>V21</th>\n",
       "      <th>V22</th>\n",
       "      <th>V23</th>\n",
       "      <th>V24</th>\n",
       "      <th>V25</th>\n",
       "      <th>V26</th>\n",
       "      <th>V27</th>\n",
       "      <th>V28</th>\n",
       "      <th>Amount</th>\n",
       "    </tr>\n",
       "    <tr>\n",
       "      <th>Class</th>\n",
       "      <th></th>\n",
       "      <th></th>\n",
       "      <th></th>\n",
       "      <th></th>\n",
       "      <th></th>\n",
       "      <th></th>\n",
       "      <th></th>\n",
       "      <th></th>\n",
       "      <th></th>\n",
       "      <th></th>\n",
       "      <th></th>\n",
       "      <th></th>\n",
       "      <th></th>\n",
       "      <th></th>\n",
       "      <th></th>\n",
       "      <th></th>\n",
       "      <th></th>\n",
       "      <th></th>\n",
       "      <th></th>\n",
       "      <th></th>\n",
       "      <th></th>\n",
       "    </tr>\n",
       "  </thead>\n",
       "  <tbody>\n",
       "    <tr>\n",
       "      <th>0</th>\n",
       "      <td>91109.443975</td>\n",
       "      <td>0.085359</td>\n",
       "      <td>0.061890</td>\n",
       "      <td>0.035679</td>\n",
       "      <td>-0.019134</td>\n",
       "      <td>-0.075779</td>\n",
       "      <td>0.035722</td>\n",
       "      <td>0.066931</td>\n",
       "      <td>0.037917</td>\n",
       "      <td>0.065910</td>\n",
       "      <td>...</td>\n",
       "      <td>-0.020456</td>\n",
       "      <td>-0.022199</td>\n",
       "      <td>0.031303</td>\n",
       "      <td>-0.013660</td>\n",
       "      <td>-0.044645</td>\n",
       "      <td>0.002105</td>\n",
       "      <td>-0.034857</td>\n",
       "      <td>-0.025226</td>\n",
       "      <td>-0.009983</td>\n",
       "      <td>88.329197</td>\n",
       "    </tr>\n",
       "    <tr>\n",
       "      <th>1</th>\n",
       "      <td>80450.513742</td>\n",
       "      <td>-4.498280</td>\n",
       "      <td>3.405965</td>\n",
       "      <td>-6.729599</td>\n",
       "      <td>4.472591</td>\n",
       "      <td>-2.957197</td>\n",
       "      <td>-1.432518</td>\n",
       "      <td>-5.175912</td>\n",
       "      <td>0.953255</td>\n",
       "      <td>-2.522124</td>\n",
       "      <td>...</td>\n",
       "      <td>0.405043</td>\n",
       "      <td>0.466550</td>\n",
       "      <td>0.086639</td>\n",
       "      <td>-0.096464</td>\n",
       "      <td>-0.106643</td>\n",
       "      <td>0.040615</td>\n",
       "      <td>0.050456</td>\n",
       "      <td>0.213774</td>\n",
       "      <td>0.078270</td>\n",
       "      <td>123.871860</td>\n",
       "    </tr>\n",
       "  </tbody>\n",
       "</table>\n",
       "<p>2 rows × 30 columns</p>\n",
       "</div>"
      ],
      "text/plain": [
       "               Time        V1        V2        V3        V4        V5  \\\n",
       "Class                                                                   \n",
       "0      91109.443975  0.085359  0.061890  0.035679 -0.019134 -0.075779   \n",
       "1      80450.513742 -4.498280  3.405965 -6.729599  4.472591 -2.957197   \n",
       "\n",
       "             V6        V7        V8        V9  ...       V20       V21  \\\n",
       "Class                                          ...                       \n",
       "0      0.035722  0.066931  0.037917  0.065910  ... -0.020456 -0.022199   \n",
       "1     -1.432518 -5.175912  0.953255 -2.522124  ...  0.405043  0.466550   \n",
       "\n",
       "            V22       V23       V24       V25       V26       V27       V28  \\\n",
       "Class                                                                         \n",
       "0      0.031303 -0.013660 -0.044645  0.002105 -0.034857 -0.025226 -0.009983   \n",
       "1      0.086639 -0.096464 -0.106643  0.040615  0.050456  0.213774  0.078270   \n",
       "\n",
       "           Amount  \n",
       "Class              \n",
       "0       88.329197  \n",
       "1      123.871860  \n",
       "\n",
       "[2 rows x 30 columns]"
      ]
     },
     "execution_count": 67,
     "metadata": {},
     "output_type": "execute_result"
    }
   ],
   "source": [
    "df.groupby('Class').mean()"
   ]
  },
  {
   "cell_type": "code",
   "execution_count": 69,
   "id": "58ae6569-dc09-49cf-88a8-71fcc49dbfac",
   "metadata": {},
   "outputs": [
    {
     "data": {
      "text/html": [
       "<div>\n",
       "<style scoped>\n",
       "    .dataframe tbody tr th:only-of-type {\n",
       "        vertical-align: middle;\n",
       "    }\n",
       "\n",
       "    .dataframe tbody tr th {\n",
       "        vertical-align: top;\n",
       "    }\n",
       "\n",
       "    .dataframe thead th {\n",
       "        text-align: right;\n",
       "    }\n",
       "</style>\n",
       "<table border=\"1\" class=\"dataframe\">\n",
       "  <thead>\n",
       "    <tr style=\"text-align: right;\">\n",
       "      <th></th>\n",
       "      <th>Time</th>\n",
       "      <th>V1</th>\n",
       "      <th>V2</th>\n",
       "      <th>V3</th>\n",
       "      <th>V4</th>\n",
       "      <th>V5</th>\n",
       "      <th>V6</th>\n",
       "      <th>V7</th>\n",
       "      <th>V8</th>\n",
       "      <th>V9</th>\n",
       "      <th>...</th>\n",
       "      <th>V21</th>\n",
       "      <th>V22</th>\n",
       "      <th>V23</th>\n",
       "      <th>V24</th>\n",
       "      <th>V25</th>\n",
       "      <th>V26</th>\n",
       "      <th>V27</th>\n",
       "      <th>V28</th>\n",
       "      <th>Amount</th>\n",
       "      <th>Class</th>\n",
       "    </tr>\n",
       "  </thead>\n",
       "  <tbody>\n",
       "    <tr>\n",
       "      <th>108886</th>\n",
       "      <td>71120.0</td>\n",
       "      <td>0.854555</td>\n",
       "      <td>-1.036422</td>\n",
       "      <td>0.500700</td>\n",
       "      <td>0.698712</td>\n",
       "      <td>-1.166085</td>\n",
       "      <td>-0.116175</td>\n",
       "      <td>-0.267995</td>\n",
       "      <td>-0.008144</td>\n",
       "      <td>-0.849884</td>\n",
       "      <td>...</td>\n",
       "      <td>-0.437836</td>\n",
       "      <td>-1.129365</td>\n",
       "      <td>-0.089390</td>\n",
       "      <td>0.276860</td>\n",
       "      <td>0.301894</td>\n",
       "      <td>-0.564008</td>\n",
       "      <td>0.020580</td>\n",
       "      <td>0.058523</td>\n",
       "      <td>219.42</td>\n",
       "      <td>0</td>\n",
       "    </tr>\n",
       "    <tr>\n",
       "      <th>63060</th>\n",
       "      <td>50539.0</td>\n",
       "      <td>-2.514891</td>\n",
       "      <td>0.433135</td>\n",
       "      <td>0.014455</td>\n",
       "      <td>-0.432482</td>\n",
       "      <td>-1.998951</td>\n",
       "      <td>0.132865</td>\n",
       "      <td>-0.077610</td>\n",
       "      <td>1.148167</td>\n",
       "      <td>0.522381</td>\n",
       "      <td>...</td>\n",
       "      <td>-0.114909</td>\n",
       "      <td>-0.128898</td>\n",
       "      <td>0.417214</td>\n",
       "      <td>-0.051977</td>\n",
       "      <td>-0.699306</td>\n",
       "      <td>0.671165</td>\n",
       "      <td>-0.180941</td>\n",
       "      <td>-0.114031</td>\n",
       "      <td>194.35</td>\n",
       "      <td>0</td>\n",
       "    </tr>\n",
       "    <tr>\n",
       "      <th>191806</th>\n",
       "      <td>129415.0</td>\n",
       "      <td>0.618606</td>\n",
       "      <td>0.786401</td>\n",
       "      <td>-2.672958</td>\n",
       "      <td>0.020681</td>\n",
       "      <td>3.075941</td>\n",
       "      <td>3.629842</td>\n",
       "      <td>0.062101</td>\n",
       "      <td>-1.024825</td>\n",
       "      <td>-0.704039</td>\n",
       "      <td>...</td>\n",
       "      <td>1.727217</td>\n",
       "      <td>0.053016</td>\n",
       "      <td>-0.090547</td>\n",
       "      <td>0.707946</td>\n",
       "      <td>0.247061</td>\n",
       "      <td>-0.389554</td>\n",
       "      <td>0.397034</td>\n",
       "      <td>0.341352</td>\n",
       "      <td>59.70</td>\n",
       "      <td>0</td>\n",
       "    </tr>\n",
       "    <tr>\n",
       "      <th>175413</th>\n",
       "      <td>122323.0</td>\n",
       "      <td>-0.201060</td>\n",
       "      <td>-0.027179</td>\n",
       "      <td>-1.223926</td>\n",
       "      <td>0.113830</td>\n",
       "      <td>0.764265</td>\n",
       "      <td>-0.611173</td>\n",
       "      <td>1.896642</td>\n",
       "      <td>-0.444546</td>\n",
       "      <td>-2.435352</td>\n",
       "      <td>...</td>\n",
       "      <td>0.265047</td>\n",
       "      <td>0.972096</td>\n",
       "      <td>0.141812</td>\n",
       "      <td>-0.409425</td>\n",
       "      <td>-0.076687</td>\n",
       "      <td>-0.220547</td>\n",
       "      <td>0.156555</td>\n",
       "      <td>0.225546</td>\n",
       "      <td>206.65</td>\n",
       "      <td>0</td>\n",
       "    </tr>\n",
       "    <tr>\n",
       "      <th>47676</th>\n",
       "      <td>43305.0</td>\n",
       "      <td>-1.647808</td>\n",
       "      <td>0.256453</td>\n",
       "      <td>1.346562</td>\n",
       "      <td>1.124777</td>\n",
       "      <td>-1.429680</td>\n",
       "      <td>0.849634</td>\n",
       "      <td>1.093247</td>\n",
       "      <td>0.755807</td>\n",
       "      <td>-0.531582</td>\n",
       "      <td>...</td>\n",
       "      <td>0.049085</td>\n",
       "      <td>-0.389701</td>\n",
       "      <td>0.666888</td>\n",
       "      <td>0.116939</td>\n",
       "      <td>0.358890</td>\n",
       "      <td>-0.396193</td>\n",
       "      <td>0.102788</td>\n",
       "      <td>0.090421</td>\n",
       "      <td>339.00</td>\n",
       "      <td>0</td>\n",
       "    </tr>\n",
       "  </tbody>\n",
       "</table>\n",
       "<p>5 rows × 31 columns</p>\n",
       "</div>"
      ],
      "text/plain": [
       "            Time        V1        V2        V3        V4        V5        V6  \\\n",
       "108886   71120.0  0.854555 -1.036422  0.500700  0.698712 -1.166085 -0.116175   \n",
       "63060    50539.0 -2.514891  0.433135  0.014455 -0.432482 -1.998951  0.132865   \n",
       "191806  129415.0  0.618606  0.786401 -2.672958  0.020681  3.075941  3.629842   \n",
       "175413  122323.0 -0.201060 -0.027179 -1.223926  0.113830  0.764265 -0.611173   \n",
       "47676    43305.0 -1.647808  0.256453  1.346562  1.124777 -1.429680  0.849634   \n",
       "\n",
       "              V7        V8        V9  ...       V21       V22       V23  \\\n",
       "108886 -0.267995 -0.008144 -0.849884  ... -0.437836 -1.129365 -0.089390   \n",
       "63060  -0.077610  1.148167  0.522381  ... -0.114909 -0.128898  0.417214   \n",
       "191806  0.062101 -1.024825 -0.704039  ...  1.727217  0.053016 -0.090547   \n",
       "175413  1.896642 -0.444546 -2.435352  ...  0.265047  0.972096  0.141812   \n",
       "47676   1.093247  0.755807 -0.531582  ...  0.049085 -0.389701  0.666888   \n",
       "\n",
       "             V24       V25       V26       V27       V28  Amount  Class  \n",
       "108886  0.276860  0.301894 -0.564008  0.020580  0.058523  219.42      0  \n",
       "63060  -0.051977 -0.699306  0.671165 -0.180941 -0.114031  194.35      0  \n",
       "191806  0.707946  0.247061 -0.389554  0.397034  0.341352   59.70      0  \n",
       "175413 -0.409425 -0.076687 -0.220547  0.156555  0.225546  206.65      0  \n",
       "47676   0.116939  0.358890 -0.396193  0.102788  0.090421  339.00      0  \n",
       "\n",
       "[5 rows x 31 columns]"
      ]
     },
     "execution_count": 69,
     "metadata": {},
     "output_type": "execute_result"
    }
   ],
   "source": [
    "df.head()"
   ]
  },
  {
   "cell_type": "markdown",
   "id": "024806a5-d621-4228-9307-90dc1ff0a78e",
   "metadata": {},
   "source": [
    "# Spliting Data into X and Y"
   ]
  },
  {
   "cell_type": "code",
   "execution_count": 72,
   "id": "f5b90369-117a-4c9b-863e-dd2099caa777",
   "metadata": {},
   "outputs": [],
   "source": [
    "x = df.drop('Class',axis=1)\n",
    "y = df['Class']"
   ]
  },
  {
   "cell_type": "code",
   "execution_count": 74,
   "id": "40a5b6d6-3f66-46ff-b6f1-b76c78f3b55d",
   "metadata": {},
   "outputs": [
    {
     "data": {
      "text/plain": [
       "(946, 30)"
      ]
     },
     "execution_count": 74,
     "metadata": {},
     "output_type": "execute_result"
    }
   ],
   "source": [
    "x.shape"
   ]
  },
  {
   "cell_type": "code",
   "execution_count": 76,
   "id": "82a16812-3c7e-47be-aa94-da5343bc8e42",
   "metadata": {},
   "outputs": [
    {
     "data": {
      "text/plain": [
       "(946,)"
      ]
     },
     "execution_count": 76,
     "metadata": {},
     "output_type": "execute_result"
    }
   ],
   "source": [
    "y.shape"
   ]
  },
  {
   "cell_type": "markdown",
   "id": "8d32988d-0361-4345-9f7d-407a597b2097",
   "metadata": {},
   "source": [
    "# Spliting data into Test and Train data"
   ]
  },
  {
   "cell_type": "code",
   "execution_count": 81,
   "id": "362c0bfe-ce21-42d5-9bcc-ffe486ab3cd5",
   "metadata": {},
   "outputs": [],
   "source": [
    "from sklearn.model_selection import train_test_split"
   ]
  },
  {
   "cell_type": "code",
   "execution_count": 83,
   "id": "8283ebd3-9bfe-442c-968b-a3007c968555",
   "metadata": {},
   "outputs": [
    {
     "name": "stdout",
     "output_type": "stream",
     "text": [
      "(662, 30)\n",
      "(284, 30)\n",
      "(662,)\n",
      "(284,)\n"
     ]
    }
   ],
   "source": [
    "x_train,x_test,y_train,y_test = train_test_split(x,y,test_size=0.30,random_state=42)\n",
    "print(x_train.shape)\n",
    "print(x_test.shape)\n",
    "print(y_train.shape)\n",
    "print(y_test.shape)"
   ]
  },
  {
   "cell_type": "markdown",
   "id": "db4a1b1d-9495-4807-b336-957cf70b1ac2",
   "metadata": {},
   "source": [
    "# Model Building"
   ]
  },
  {
   "cell_type": "code",
   "execution_count": 86,
   "id": "30213999-e4d8-4c71-b0df-5d65742ffc4b",
   "metadata": {},
   "outputs": [],
   "source": [
    "from sklearn.linear_model import LogisticRegression"
   ]
  },
  {
   "cell_type": "code",
   "execution_count": 88,
   "id": "3f387a5e-89c8-4117-9b2d-b62c6808c762",
   "metadata": {},
   "outputs": [],
   "source": [
    "from  sklearn.metrics import confusion_matrix,classification_report,roc_curve,roc_auc_score"
   ]
  },
  {
   "cell_type": "code",
   "execution_count": 90,
   "id": "f3cbee72-662c-4611-aeab-eaa8b86f810f",
   "metadata": {},
   "outputs": [],
   "source": [
    "def gen_and_eval_model(model,x_train,x_test,y_train,y_test):\n",
    "    model.fit(x_train,y_train)\n",
    "    print('Train acc',model.score(x_train,y_train))\n",
    "    print('Test acc',model.score(x_test,y_test))\n",
    "    ypred = model.predict(x_test)\n",
    "    cm = confusion_matrix(y_test,ypred)\n",
    "    print('Confusion Matrix\\n',cm)\n",
    "    print('Classification Report\\n',classification_report(y_test,ypred))  "
   ]
  },
  {
   "cell_type": "code",
   "execution_count": 92,
   "id": "6bb6c268-d9a8-47bb-ad22-a553aacfb60d",
   "metadata": {},
   "outputs": [
    {
     "name": "stdout",
     "output_type": "stream",
     "text": [
      "Train acc 0.9335347432024169\n",
      "Test acc 0.9330985915492958\n",
      "Confusion Matrix\n",
      " [[130  10]\n",
      " [  9 135]]\n",
      "Classification Report\n",
      "               precision    recall  f1-score   support\n",
      "\n",
      "           0       0.94      0.93      0.93       140\n",
      "           1       0.93      0.94      0.93       144\n",
      "\n",
      "    accuracy                           0.93       284\n",
      "   macro avg       0.93      0.93      0.93       284\n",
      "weighted avg       0.93      0.93      0.93       284\n",
      "\n"
     ]
    }
   ],
   "source": [
    "lr = LogisticRegression(max_iter=10000)\n",
    "gen_and_eval_model(lr,x_train,x_test,y_train,y_test)"
   ]
  },
  {
   "cell_type": "markdown",
   "id": "21208d2f-3985-4158-b8f2-d1d8ed59cf50",
   "metadata": {},
   "source": [
    "# Evaluating the model"
   ]
  },
  {
   "cell_type": "code",
   "execution_count": 95,
   "id": "7f1c70f5-796e-47a3-a6d0-d9cc5221d611",
   "metadata": {},
   "outputs": [
    {
     "data": {
      "text/html": [
       "<style>#sk-container-id-1 {color: black;background-color: white;}#sk-container-id-1 pre{padding: 0;}#sk-container-id-1 div.sk-toggleable {background-color: white;}#sk-container-id-1 label.sk-toggleable__label {cursor: pointer;display: block;width: 100%;margin-bottom: 0;padding: 0.3em;box-sizing: border-box;text-align: center;}#sk-container-id-1 label.sk-toggleable__label-arrow:before {content: \"▸\";float: left;margin-right: 0.25em;color: #696969;}#sk-container-id-1 label.sk-toggleable__label-arrow:hover:before {color: black;}#sk-container-id-1 div.sk-estimator:hover label.sk-toggleable__label-arrow:before {color: black;}#sk-container-id-1 div.sk-toggleable__content {max-height: 0;max-width: 0;overflow: hidden;text-align: left;background-color: #f0f8ff;}#sk-container-id-1 div.sk-toggleable__content pre {margin: 0.2em;color: black;border-radius: 0.25em;background-color: #f0f8ff;}#sk-container-id-1 input.sk-toggleable__control:checked~div.sk-toggleable__content {max-height: 200px;max-width: 100%;overflow: auto;}#sk-container-id-1 input.sk-toggleable__control:checked~label.sk-toggleable__label-arrow:before {content: \"▾\";}#sk-container-id-1 div.sk-estimator input.sk-toggleable__control:checked~label.sk-toggleable__label {background-color: #d4ebff;}#sk-container-id-1 div.sk-label input.sk-toggleable__control:checked~label.sk-toggleable__label {background-color: #d4ebff;}#sk-container-id-1 input.sk-hidden--visually {border: 0;clip: rect(1px 1px 1px 1px);clip: rect(1px, 1px, 1px, 1px);height: 1px;margin: -1px;overflow: hidden;padding: 0;position: absolute;width: 1px;}#sk-container-id-1 div.sk-estimator {font-family: monospace;background-color: #f0f8ff;border: 1px dotted black;border-radius: 0.25em;box-sizing: border-box;margin-bottom: 0.5em;}#sk-container-id-1 div.sk-estimator:hover {background-color: #d4ebff;}#sk-container-id-1 div.sk-parallel-item::after {content: \"\";width: 100%;border-bottom: 1px solid gray;flex-grow: 1;}#sk-container-id-1 div.sk-label:hover label.sk-toggleable__label {background-color: #d4ebff;}#sk-container-id-1 div.sk-serial::before {content: \"\";position: absolute;border-left: 1px solid gray;box-sizing: border-box;top: 0;bottom: 0;left: 50%;z-index: 0;}#sk-container-id-1 div.sk-serial {display: flex;flex-direction: column;align-items: center;background-color: white;padding-right: 0.2em;padding-left: 0.2em;position: relative;}#sk-container-id-1 div.sk-item {position: relative;z-index: 1;}#sk-container-id-1 div.sk-parallel {display: flex;align-items: stretch;justify-content: center;background-color: white;position: relative;}#sk-container-id-1 div.sk-item::before, #sk-container-id-1 div.sk-parallel-item::before {content: \"\";position: absolute;border-left: 1px solid gray;box-sizing: border-box;top: 0;bottom: 0;left: 50%;z-index: -1;}#sk-container-id-1 div.sk-parallel-item {display: flex;flex-direction: column;z-index: 1;position: relative;background-color: white;}#sk-container-id-1 div.sk-parallel-item:first-child::after {align-self: flex-end;width: 50%;}#sk-container-id-1 div.sk-parallel-item:last-child::after {align-self: flex-start;width: 50%;}#sk-container-id-1 div.sk-parallel-item:only-child::after {width: 0;}#sk-container-id-1 div.sk-dashed-wrapped {border: 1px dashed gray;margin: 0 0.4em 0.5em 0.4em;box-sizing: border-box;padding-bottom: 0.4em;background-color: white;}#sk-container-id-1 div.sk-label label {font-family: monospace;font-weight: bold;display: inline-block;line-height: 1.2em;}#sk-container-id-1 div.sk-label-container {text-align: center;}#sk-container-id-1 div.sk-container {/* jupyter's `normalize.less` sets `[hidden] { display: none; }` but bootstrap.min.css set `[hidden] { display: none !important; }` so we also need the `!important` here to be able to override the default hidden behavior on the sphinx rendered scikit-learn.org. See: https://github.com/scikit-learn/scikit-learn/issues/21755 */display: inline-block !important;position: relative;}#sk-container-id-1 div.sk-text-repr-fallback {display: none;}</style><div id=\"sk-container-id-1\" class=\"sk-top-container\"><div class=\"sk-text-repr-fallback\"><pre>LogisticRegression(max_iter=10000)</pre><b>In a Jupyter environment, please rerun this cell to show the HTML representation or trust the notebook. <br />On GitHub, the HTML representation is unable to render, please try loading this page with nbviewer.org.</b></div><div class=\"sk-container\" hidden><div class=\"sk-item\"><div class=\"sk-estimator sk-toggleable\"><input class=\"sk-toggleable__control sk-hidden--visually\" id=\"sk-estimator-id-1\" type=\"checkbox\" checked><label for=\"sk-estimator-id-1\" class=\"sk-toggleable__label sk-toggleable__label-arrow\">LogisticRegression</label><div class=\"sk-toggleable__content\"><pre>LogisticRegression(max_iter=10000)</pre></div></div></div></div></div>"
      ],
      "text/plain": [
       "LogisticRegression(max_iter=10000)"
      ]
     },
     "execution_count": 95,
     "metadata": {},
     "output_type": "execute_result"
    }
   ],
   "source": [
    "lr1 = LogisticRegression(max_iter=10000)\n",
    "lr1.fit(x_train,y_train)"
   ]
  },
  {
   "cell_type": "code",
   "execution_count": 97,
   "id": "9eec4fc1-e844-4cb5-9ecb-ff05a98932ff",
   "metadata": {},
   "outputs": [
    {
     "name": "stdout",
     "output_type": "stream",
     "text": [
      "Train Scr 0.9335347432024169\n",
      "Test Scr 0.9330985915492958\n"
     ]
    }
   ],
   "source": [
    "print('Train Scr',lr1.score(x_train,y_train))\n",
    "print('Test Scr',lr1.score(x_test,y_test))"
   ]
  },
  {
   "cell_type": "code",
   "execution_count": 99,
   "id": "0dac70d8-1445-472b-aa70-26596c906863",
   "metadata": {},
   "outputs": [
    {
     "name": "stdout",
     "output_type": "stream",
     "text": [
      "[0 0 1 0 0 1 1 0 0 1 0 0 0 0 1 0 0 1 1 1 1 1 1 1 0 0 1 1 0 0 1 1 1 0 0 1 1\n",
      " 0 0 0 1 0 1 1 1 0 0 1 0 1 0 1 0 1 0 0 0 1 1 0 1 1 0 0 1 0 0 0 0 0 0 0 1 1\n",
      " 0 0 0 1 1 0 1 1 0 0 1 1 0 0 1 0 1 1 0 1 1 1 1 1 1 1 1 1 1 1 0 1 1 0 0 1 1\n",
      " 0 1 0 1 1 1 0 0 1 0 0 1 1 1 0 0 0 0 1 1 0 1 0 0 0 1 0 0 1 1 0 0 1 0 0 0 1\n",
      " 1 1 0 1 1 1 1 1 0 0 1 1 0 0 0 1 1 1 1 0 0 1 1 1 0 1 0 1 1 1 0 1 0 1 0 0 1\n",
      " 1 1 1 0 0 0 0 0 0 1 0 1 1 0 0 1 0 0 0 0 1 1 0 1 0 1 0 1 1 1 1 1 0 0 0 0 1\n",
      " 1 0 1 0 0 1 1 0 0 0 0 1 1 0 0 0 0 1 1 0 1 0 1 0 0 0 1 1 1 1 0 1 1 0 1 0 1\n",
      " 1 0 0 0 0 1 0 0 0 0 0 1 1 0 1 1 1 1 1 1 1 1 0 0 1]\n"
     ]
    }
   ],
   "source": [
    "ypred_lr1 = lr1.predict(x_test)\n",
    "print(ypred_lr1)"
   ]
  },
  {
   "cell_type": "code",
   "execution_count": 101,
   "id": "1bd06330-2617-4fde-88bd-36de5e9557ec",
   "metadata": {},
   "outputs": [],
   "source": [
    "from sklearn.metrics import accuracy_score,precision_score,recall_score"
   ]
  },
  {
   "cell_type": "code",
   "execution_count": 103,
   "id": "f6ff1b08-202a-49d6-8c4a-b1098d842003",
   "metadata": {},
   "outputs": [
    {
     "data": {
      "text/html": [
       "<div>\n",
       "<style scoped>\n",
       "    .dataframe tbody tr th:only-of-type {\n",
       "        vertical-align: middle;\n",
       "    }\n",
       "\n",
       "    .dataframe tbody tr th {\n",
       "        vertical-align: top;\n",
       "    }\n",
       "\n",
       "    .dataframe thead th {\n",
       "        text-align: right;\n",
       "    }\n",
       "</style>\n",
       "<table border=\"1\" class=\"dataframe\">\n",
       "  <thead>\n",
       "    <tr style=\"text-align: right;\">\n",
       "      <th></th>\n",
       "      <th>Model</th>\n",
       "      <th>Acc</th>\n",
       "      <th>Precision</th>\n",
       "      <th>Recall</th>\n",
       "    </tr>\n",
       "  </thead>\n",
       "  <tbody>\n",
       "    <tr>\n",
       "      <th>0</th>\n",
       "      <td>LogReg_m1</td>\n",
       "      <td>0.933099</td>\n",
       "      <td>0.931034</td>\n",
       "      <td>0.9375</td>\n",
       "    </tr>\n",
       "  </tbody>\n",
       "</table>\n",
       "</div>"
      ],
      "text/plain": [
       "       Model       Acc  Precision  Recall\n",
       "0  LogReg_m1  0.933099   0.931034  0.9375"
      ]
     },
     "execution_count": 103,
     "metadata": {},
     "output_type": "execute_result"
    }
   ],
   "source": [
    "acc_lr1 = accuracy_score(y_test,ypred_lr1)\n",
    "pre_lr1 = precision_score(y_test,ypred_lr1)\n",
    "rec_lr1 = recall_score(y_test,ypred_lr1)\n",
    "\n",
    "lr1_res = pd.DataFrame({'Model':'LogReg_m1','Acc':acc_lr1,\n",
    "                   'Precision':pre_lr1,'Recall':rec_lr1},index=[0])\n",
    "lr1_res"
   ]
  },
  {
   "cell_type": "markdown",
   "id": "eda0d50b-99a7-455a-968a-58f51dfe5faf",
   "metadata": {},
   "source": [
    "# ROC_AUC"
   ]
  },
  {
   "cell_type": "code",
   "execution_count": 108,
   "id": "003047b4-d9aa-4eb5-95ce-6c6eb0de6344",
   "metadata": {},
   "outputs": [],
   "source": [
    "from sklearn.metrics import roc_curve,roc_auc_score"
   ]
  },
  {
   "cell_type": "code",
   "execution_count": 110,
   "id": "36c5444e-ed50-4863-bded-9a84377468f1",
   "metadata": {},
   "outputs": [
    {
     "name": "stdout",
     "output_type": "stream",
     "text": [
      "[[8.93595566e-01 1.06404434e-01]\n",
      " [9.95339205e-01 4.66079523e-03]\n",
      " [5.16282522e-02 9.48371748e-01]\n",
      " [9.86862650e-01 1.31373503e-02]\n",
      " [7.44958243e-01 2.55041757e-01]\n",
      " [0.00000000e+00 1.00000000e+00]\n",
      " [1.18893340e-10 1.00000000e+00]\n",
      " [9.29784770e-01 7.02152296e-02]\n",
      " [9.32526505e-01 6.74734945e-02]\n",
      " [0.00000000e+00 1.00000000e+00]]\n"
     ]
    }
   ],
   "source": [
    "ypred_lr1_prob = lr1.predict_proba(x_test)\n",
    "print(ypred_lr1_prob[:10])"
   ]
  },
  {
   "cell_type": "code",
   "execution_count": 112,
   "id": "e6f729a3-42fc-4cf4-a2ef-1217ddc677d8",
   "metadata": {},
   "outputs": [
    {
     "name": "stdout",
     "output_type": "stream",
     "text": [
      "[0 0 1 0 0 1 1 0 0 1]\n"
     ]
    }
   ],
   "source": [
    "print(ypred_lr1[:10])"
   ]
  },
  {
   "cell_type": "code",
   "execution_count": 114,
   "id": "63b924b5-68f9-40ad-b720-508b8d6ba44c",
   "metadata": {},
   "outputs": [
    {
     "data": {
      "image/png": "[encoded data removed]",
      "text/plain": [
       "<Figure size 640x480 with 1 Axes>"
      ]
     },
     "metadata": {},
     "output_type": "display_data"
    }
   ],
   "source": [
    "fpr,tpr,thresh = roc_curve(y_test,ypred_lr1_prob[:,1])\n",
    "auc_score = roc_auc_score(y_test,ypred_lr1_prob[:,1])\n",
    "plt.plot(fpr,tpr,label='AUC: '+str(auc_score))\n",
    "plt.plot([0,1],[0,1],color='green',linestyle='dotted')\n",
    "plt.title('ROC-AUC Curve')\n",
    "plt.xlabel('FPR')\n",
    "plt.ylabel('TPR')\n",
    "plt.legend()\n",
    "plt.show()"
   ]
  },
  {
   "cell_type": "markdown",
   "id": "7f873b25-aacd-40c6-b138-463e72f8bd30",
   "metadata": {},
   "source": [
    "# Best Threshold"
   ]
  },
  {
   "cell_type": "code",
   "execution_count": 117,
   "id": "e2705664-e39a-49bb-bf6f-ffd0c80fcc5b",
   "metadata": {},
   "outputs": [
    {
     "name": "stdout",
     "output_type": "stream",
     "text": [
      "0.7764897161228789\n"
     ]
    }
   ],
   "source": [
    "best_thresh1 = thresh[np.argmax(tpr*(1-fpr))]\n",
    "print(best_thresh1)"
   ]
  },
  {
   "cell_type": "code",
   "execution_count": 119,
   "id": "1c7fd873-4ca1-4535-af4f-2cd49931ccb3",
   "metadata": {},
   "outputs": [
    {
     "name": "stdout",
     "output_type": "stream",
     "text": [
      "0.7764897161228789\n"
     ]
    }
   ],
   "source": [
    "best_thresh2 = thresh[np.argmax(abs(tpr-fpr))]\n",
    "print(best_thresh2)"
   ]
  },
  {
   "cell_type": "code",
   "execution_count": 121,
   "id": "1f935ff3-5a56-427e-bd7e-f0c3e24d147d",
   "metadata": {},
   "outputs": [
    {
     "name": "stdout",
     "output_type": "stream",
     "text": [
      "[0 0 1 0 0 1 1 0 0 1 0 0 0 0 1 0 0 1 1 1 1 1 1 0 0 0 1 1 0 0 1 1 1 0 0 1 1\n",
      " 0 0 0 1 0 1 1 1 0 0 1 0 1 0 1 0 1 0 0 0 1 1 0 1 1 0 0 1 0 0 0 0 0 0 0 1 1\n",
      " 0 0 0 1 1 0 1 1 0 0 1 1 0 0 1 0 0 1 0 1 1 1 1 1 1 1 1 1 1 0 0 1 1 0 0 1 0\n",
      " 0 1 0 1 1 1 0 0 1 0 0 1 1 1 0 0 0 0 1 1 0 1 0 0 0 1 0 0 1 1 0 0 1 0 0 0 1\n",
      " 1 1 0 1 1 1 0 1 0 0 1 1 0 0 0 0 1 1 0 0 0 1 1 1 0 1 0 1 1 1 0 1 0 1 0 0 1\n",
      " 1 1 1 0 0 0 0 0 0 1 0 1 1 0 0 1 0 0 0 0 1 1 0 1 0 1 0 1 1 1 1 1 0 0 0 0 1\n",
      " 1 0 1 0 0 1 1 0 0 0 0 1 1 0 0 0 0 0 1 0 1 0 0 0 0 0 1 1 1 0 0 1 1 0 1 0 1\n",
      " 1 0 0 0 0 1 0 0 0 0 0 1 1 0 1 1 1 1 1 1 1 1 0 0 1]\n"
     ]
    }
   ],
   "source": [
    "ypred_lr2 = np.where(ypred_lr1_prob[:,1]>best_thresh2,1,0)\n",
    "print(ypred_lr2)"
   ]
  },
  {
   "cell_type": "code",
   "execution_count": 123,
   "id": "ebac11da-9947-4869-a5bb-996aeb006df1",
   "metadata": {},
   "outputs": [
    {
     "data": {
      "text/html": [
       "<div>\n",
       "<style scoped>\n",
       "    .dataframe tbody tr th:only-of-type {\n",
       "        vertical-align: middle;\n",
       "    }\n",
       "\n",
       "    .dataframe tbody tr th {\n",
       "        vertical-align: top;\n",
       "    }\n",
       "\n",
       "    .dataframe thead th {\n",
       "        text-align: right;\n",
       "    }\n",
       "</style>\n",
       "<table border=\"1\" class=\"dataframe\">\n",
       "  <thead>\n",
       "    <tr style=\"text-align: right;\">\n",
       "      <th></th>\n",
       "      <th>Model</th>\n",
       "      <th>Acc</th>\n",
       "      <th>Precision</th>\n",
       "      <th>Recall</th>\n",
       "    </tr>\n",
       "  </thead>\n",
       "  <tbody>\n",
       "    <tr>\n",
       "      <th>1</th>\n",
       "      <td>LogReg_m2(Thresh=0.488)</td>\n",
       "      <td>0.933099</td>\n",
       "      <td>0.962963</td>\n",
       "      <td>0.902778</td>\n",
       "    </tr>\n",
       "  </tbody>\n",
       "</table>\n",
       "</div>"
      ],
      "text/plain": [
       "                     Model       Acc  Precision    Recall\n",
       "1  LogReg_m2(Thresh=0.488)  0.933099   0.962963  0.902778"
      ]
     },
     "execution_count": 123,
     "metadata": {},
     "output_type": "execute_result"
    }
   ],
   "source": [
    "acc_lr2 = accuracy_score(y_test,ypred_lr2)\n",
    "pre_lr2 = precision_score(y_test,ypred_lr2)\n",
    "rec_lr2 = recall_score(y_test,ypred_lr2)\n",
    "\n",
    "lr2_res = pd.DataFrame({'Model':'LogReg_m2(Thresh=0.488)','Acc':acc_lr2,\n",
    "                   'Precision':pre_lr2,'Recall':rec_lr2},index=[1])\n",
    "lr2_res"
   ]
  },
  {
   "cell_type": "code",
   "execution_count": 125,
   "id": "9681dbdf-04ed-439b-b041-260b8045527a",
   "metadata": {},
   "outputs": [
    {
     "data": {
      "text/html": [
       "<div>\n",
       "<style scoped>\n",
       "    .dataframe tbody tr th:only-of-type {\n",
       "        vertical-align: middle;\n",
       "    }\n",
       "\n",
       "    .dataframe tbody tr th {\n",
       "        vertical-align: top;\n",
       "    }\n",
       "\n",
       "    .dataframe thead th {\n",
       "        text-align: right;\n",
       "    }\n",
       "</style>\n",
       "<table border=\"1\" class=\"dataframe\">\n",
       "  <thead>\n",
       "    <tr style=\"text-align: right;\">\n",
       "      <th></th>\n",
       "      <th>Model</th>\n",
       "      <th>Acc</th>\n",
       "      <th>Precision</th>\n",
       "      <th>Recall</th>\n",
       "    </tr>\n",
       "  </thead>\n",
       "  <tbody>\n",
       "    <tr>\n",
       "      <th>0</th>\n",
       "      <td>LogReg_m1</td>\n",
       "      <td>0.933099</td>\n",
       "      <td>0.931034</td>\n",
       "      <td>0.937500</td>\n",
       "    </tr>\n",
       "    <tr>\n",
       "      <th>1</th>\n",
       "      <td>LogReg_m2(Thresh=0.488)</td>\n",
       "      <td>0.933099</td>\n",
       "      <td>0.962963</td>\n",
       "      <td>0.902778</td>\n",
       "    </tr>\n",
       "  </tbody>\n",
       "</table>\n",
       "</div>"
      ],
      "text/plain": [
       "                     Model       Acc  Precision    Recall\n",
       "0                LogReg_m1  0.933099   0.931034  0.937500\n",
       "1  LogReg_m2(Thresh=0.488)  0.933099   0.962963  0.902778"
      ]
     },
     "execution_count": 125,
     "metadata": {},
     "output_type": "execute_result"
    }
   ],
   "source": [
    "res = pd.concat([lr1_res,lr2_res])\n",
    "res"
   ]
  },
  {
   "cell_type": "markdown",
   "id": "af08c31d-651c-4992-850c-fb2bbd1a7ba7",
   "metadata": {},
   "source": [
    "# SUMMARY "
   ]
  },
  {
   "cell_type": "raw",
   "id": "5f2e8cee-097d-4bc2-897d-c36a7e24f851",
   "metadata": {},
   "source": [
    "According to the result logReg_m2 is better than LogReg_m1"
   ]
  },
  {
   "cell_type": "raw",
   "id": "a977b230-a9cc-4b94-8188-6fa8556c4864",
   "metadata": {},
   "source": [
    "So this is how Python Programming language can be used to detect the fraud transactions taking place through credit card."
   ]
  },
  {
   "cell_type": "code",
   "execution_count": null,
   "id": "a5b4d8b9-35fe-4413-8a29-f99034e06084",
   "metadata": {},
   "outputs": [],
   "source": []
  }
 ],
 "metadata": {
  "kernelspec": {
   "display_name": "Python 3 (ipykernel)",
   "language": "python",
   "name": "python3"
  },
  "language_info": {
   "codemirror_mode": {
    "name": "ipython",
    "version": 3
   },
   "file_extension": ".py",
   "mimetype": "text/x-python",
   "name": "python",
   "nbconvert_exporter": "python",
   "pygments_lexer": "ipython3",
   "version": "3.11.7"
  }
 },
 "nbformat": 4,
 "nbformat_minor": 5
}

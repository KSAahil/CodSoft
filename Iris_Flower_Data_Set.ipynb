{
 "cells": [
  {
   "cell_type": "markdown",
   "id": "f9604317-ae58-4035-adb5-8464a3e055e4",
   "metadata": {},
   "source": [
    "# IRIS FLOWER DATA SET\n"
   ]
  },
  {
   "cell_type": "markdown",
   "id": "e7b70b2a-f10d-4e5a-b5bb-2d46d42ad7a1",
   "metadata": {},
   "source": [
    "# Import the Libraries"
   ]
  },
  {
   "cell_type": "code",
   "execution_count": 13,
   "id": "c82e5a7d-de9b-45a6-aa41-712c09aa893a",
   "metadata": {},
   "outputs": [],
   "source": [
    "import numpy as np\n",
    "import pandas as pd\n",
    "import matplotlib.pyplot as plt\n",
    "import seaborn as sns"
   ]
  },
  {
   "cell_type": "markdown",
   "id": "151d0ff7-fb92-46cb-bb18-5802842df996",
   "metadata": {},
   "source": [
    "# Reading the Dataset"
   ]
  },
  {
   "cell_type": "code",
   "execution_count": 18,
   "id": "17c2fa82-ef6f-4c64-9a25-5fbfb579f4bd",
   "metadata": {},
   "outputs": [
    {
     "data": {
      "text/html": [
       "<div>\n",
       "<style scoped>\n",
       "    .dataframe tbody tr th:only-of-type {\n",
       "        vertical-align: middle;\n",
       "    }\n",
       "\n",
       "    .dataframe tbody tr th {\n",
       "        vertical-align: top;\n",
       "    }\n",
       "\n",
       "    .dataframe thead th {\n",
       "        text-align: right;\n",
       "    }\n",
       "</style>\n",
       "<table border=\"1\" class=\"dataframe\">\n",
       "  <thead>\n",
       "    <tr style=\"text-align: right;\">\n",
       "      <th></th>\n",
       "      <th>sepal_length</th>\n",
       "      <th>sepal_width</th>\n",
       "      <th>petal_length</th>\n",
       "      <th>petal_width</th>\n",
       "      <th>species</th>\n",
       "    </tr>\n",
       "  </thead>\n",
       "  <tbody>\n",
       "    <tr>\n",
       "      <th>0</th>\n",
       "      <td>5.1</td>\n",
       "      <td>3.5</td>\n",
       "      <td>1.4</td>\n",
       "      <td>0.2</td>\n",
       "      <td>Iris-setosa</td>\n",
       "    </tr>\n",
       "    <tr>\n",
       "      <th>1</th>\n",
       "      <td>4.9</td>\n",
       "      <td>3.0</td>\n",
       "      <td>1.4</td>\n",
       "      <td>0.2</td>\n",
       "      <td>Iris-setosa</td>\n",
       "    </tr>\n",
       "    <tr>\n",
       "      <th>2</th>\n",
       "      <td>4.7</td>\n",
       "      <td>3.2</td>\n",
       "      <td>1.3</td>\n",
       "      <td>0.2</td>\n",
       "      <td>Iris-setosa</td>\n",
       "    </tr>\n",
       "    <tr>\n",
       "      <th>3</th>\n",
       "      <td>4.6</td>\n",
       "      <td>3.1</td>\n",
       "      <td>1.5</td>\n",
       "      <td>0.2</td>\n",
       "      <td>Iris-setosa</td>\n",
       "    </tr>\n",
       "    <tr>\n",
       "      <th>4</th>\n",
       "      <td>5.0</td>\n",
       "      <td>3.6</td>\n",
       "      <td>1.4</td>\n",
       "      <td>0.2</td>\n",
       "      <td>Iris-setosa</td>\n",
       "    </tr>\n",
       "  </tbody>\n",
       "</table>\n",
       "</div>"
      ],
      "text/plain": [
       "   sepal_length  sepal_width  petal_length  petal_width      species\n",
       "0           5.1          3.5           1.4          0.2  Iris-setosa\n",
       "1           4.9          3.0           1.4          0.2  Iris-setosa\n",
       "2           4.7          3.2           1.3          0.2  Iris-setosa\n",
       "3           4.6          3.1           1.5          0.2  Iris-setosa\n",
       "4           5.0          3.6           1.4          0.2  Iris-setosa"
      ]
     },
     "execution_count": 18,
     "metadata": {},
     "output_type": "execute_result"
    }
   ],
   "source": [
    "df = pd.read_csv('IRIS.csv')\n",
    "df.head()"
   ]
  },
  {
   "cell_type": "code",
   "execution_count": 20,
   "id": "fbce958b-4869-4769-8206-0a7da3e5e139",
   "metadata": {},
   "outputs": [],
   "source": [
    "df1 = df.copy()    # Making the copy of the dataframe"
   ]
  },
  {
   "cell_type": "code",
   "execution_count": 22,
   "id": "f95781fd-79e6-421f-98ec-62e17ed566e8",
   "metadata": {},
   "outputs": [
    {
     "data": {
      "text/html": [
       "<div>\n",
       "<style scoped>\n",
       "    .dataframe tbody tr th:only-of-type {\n",
       "        vertical-align: middle;\n",
       "    }\n",
       "\n",
       "    .dataframe tbody tr th {\n",
       "        vertical-align: top;\n",
       "    }\n",
       "\n",
       "    .dataframe thead th {\n",
       "        text-align: right;\n",
       "    }\n",
       "</style>\n",
       "<table border=\"1\" class=\"dataframe\">\n",
       "  <thead>\n",
       "    <tr style=\"text-align: right;\">\n",
       "      <th></th>\n",
       "      <th>sepal_length</th>\n",
       "      <th>sepal_width</th>\n",
       "      <th>petal_length</th>\n",
       "      <th>petal_width</th>\n",
       "    </tr>\n",
       "  </thead>\n",
       "  <tbody>\n",
       "    <tr>\n",
       "      <th>count</th>\n",
       "      <td>150.000000</td>\n",
       "      <td>150.000000</td>\n",
       "      <td>150.000000</td>\n",
       "      <td>150.000000</td>\n",
       "    </tr>\n",
       "    <tr>\n",
       "      <th>mean</th>\n",
       "      <td>5.843333</td>\n",
       "      <td>3.054000</td>\n",
       "      <td>3.758667</td>\n",
       "      <td>1.198667</td>\n",
       "    </tr>\n",
       "    <tr>\n",
       "      <th>std</th>\n",
       "      <td>0.828066</td>\n",
       "      <td>0.433594</td>\n",
       "      <td>1.764420</td>\n",
       "      <td>0.763161</td>\n",
       "    </tr>\n",
       "    <tr>\n",
       "      <th>min</th>\n",
       "      <td>4.300000</td>\n",
       "      <td>2.000000</td>\n",
       "      <td>1.000000</td>\n",
       "      <td>0.100000</td>\n",
       "    </tr>\n",
       "    <tr>\n",
       "      <th>25%</th>\n",
       "      <td>5.100000</td>\n",
       "      <td>2.800000</td>\n",
       "      <td>1.600000</td>\n",
       "      <td>0.300000</td>\n",
       "    </tr>\n",
       "    <tr>\n",
       "      <th>50%</th>\n",
       "      <td>5.800000</td>\n",
       "      <td>3.000000</td>\n",
       "      <td>4.350000</td>\n",
       "      <td>1.300000</td>\n",
       "    </tr>\n",
       "    <tr>\n",
       "      <th>75%</th>\n",
       "      <td>6.400000</td>\n",
       "      <td>3.300000</td>\n",
       "      <td>5.100000</td>\n",
       "      <td>1.800000</td>\n",
       "    </tr>\n",
       "    <tr>\n",
       "      <th>max</th>\n",
       "      <td>7.900000</td>\n",
       "      <td>4.400000</td>\n",
       "      <td>6.900000</td>\n",
       "      <td>2.500000</td>\n",
       "    </tr>\n",
       "  </tbody>\n",
       "</table>\n",
       "</div>"
      ],
      "text/plain": [
       "       sepal_length  sepal_width  petal_length  petal_width\n",
       "count    150.000000   150.000000    150.000000   150.000000\n",
       "mean       5.843333     3.054000      3.758667     1.198667\n",
       "std        0.828066     0.433594      1.764420     0.763161\n",
       "min        4.300000     2.000000      1.000000     0.100000\n",
       "25%        5.100000     2.800000      1.600000     0.300000\n",
       "50%        5.800000     3.000000      4.350000     1.300000\n",
       "75%        6.400000     3.300000      5.100000     1.800000\n",
       "max        7.900000     4.400000      6.900000     2.500000"
      ]
     },
     "execution_count": 22,
     "metadata": {},
     "output_type": "execute_result"
    }
   ],
   "source": [
    "df.describe()     # Describing statistical measures"
   ]
  },
  {
   "cell_type": "code",
   "execution_count": 24,
   "id": "2057cf6d-88ab-4efb-a8b1-348ad8ec27d4",
   "metadata": {},
   "outputs": [
    {
     "data": {
      "text/plain": [
       "(150, 5)"
      ]
     },
     "execution_count": 24,
     "metadata": {},
     "output_type": "execute_result"
    }
   ],
   "source": [
    "df.shape     # Rows-150,Columns-5"
   ]
  },
  {
   "cell_type": "code",
   "execution_count": 26,
   "id": "68bfac6c-31f2-49da-9b57-c7e83a339ea0",
   "metadata": {},
   "outputs": [
    {
     "data": {
      "text/plain": [
       "sepal_length    float64\n",
       "sepal_width     float64\n",
       "petal_length    float64\n",
       "petal_width     float64\n",
       "species          object\n",
       "dtype: object"
      ]
     },
     "execution_count": 26,
     "metadata": {},
     "output_type": "execute_result"
    }
   ],
   "source": [
    "df.dtypes      # Checking the datatypes"
   ]
  },
  {
   "cell_type": "markdown",
   "id": "8289cd1e-f109-4b05-a142-afe83f48fb4f",
   "metadata": {},
   "source": [
    "# Data Preprocessing"
   ]
  },
  {
   "cell_type": "raw",
   "id": "eb0392f1-890c-43af-bedb-02807fad3c49",
   "metadata": {},
   "source": [
    "1) Checking Null Values"
   ]
  },
  {
   "cell_type": "code",
   "execution_count": 31,
   "id": "873c5f13-947f-4d40-a471-627c3ad0368e",
   "metadata": {},
   "outputs": [
    {
     "data": {
      "text/plain": [
       "sepal_length    0\n",
       "sepal_width     0\n",
       "petal_length    0\n",
       "petal_width     0\n",
       "species         0\n",
       "dtype: int64"
      ]
     },
     "execution_count": 31,
     "metadata": {},
     "output_type": "execute_result"
    }
   ],
   "source": [
    "df.isnull().sum()    # There is no null values"
   ]
  },
  {
   "cell_type": "raw",
   "id": "7c680dfc-943d-4d91-aa84-a14ed02e5ddb",
   "metadata": {},
   "source": [
    "2) Checking Duplicates"
   ]
  },
  {
   "cell_type": "code",
   "execution_count": 33,
   "id": "641f94f4-8f47-4092-bb82-c3b6bee567c5",
   "metadata": {},
   "outputs": [
    {
     "data": {
      "text/plain": [
       "3"
      ]
     },
     "execution_count": 33,
     "metadata": {},
     "output_type": "execute_result"
    }
   ],
   "source": [
    "df.duplicated().sum()   # There are 3 duplicates "
   ]
  },
  {
   "cell_type": "raw",
   "id": "7d9deb7d-1c8b-46bb-9611-b391a2517d33",
   "metadata": {},
   "source": [
    "3) Droping the Duplicates"
   ]
  },
  {
   "cell_type": "code",
   "execution_count": 35,
   "id": "9af05132-da9e-4741-9602-2e7ca081f7e3",
   "metadata": {},
   "outputs": [],
   "source": [
    "df.drop_duplicates(inplace=True)    # Dropping the Duplicates"
   ]
  },
  {
   "cell_type": "code",
   "execution_count": 37,
   "id": "636eb4d5-abdd-4c51-8c10-423c4b46da88",
   "metadata": {},
   "outputs": [
    {
     "data": {
      "text/plain": [
       "(147, 5)"
      ]
     },
     "execution_count": 37,
     "metadata": {},
     "output_type": "execute_result"
    }
   ],
   "source": [
    "df.shape        # checking the shape after dropping duplicates"
   ]
  },
  {
   "cell_type": "code",
   "execution_count": 39,
   "id": "51a20188-b6fd-4fbb-8e25-2dbf7e7707f5",
   "metadata": {},
   "outputs": [
    {
     "data": {
      "text/plain": [
       "species\n",
       "Iris-versicolor    50\n",
       "Iris-virginica     49\n",
       "Iris-setosa        48\n",
       "Name: count, dtype: int64"
      ]
     },
     "execution_count": 39,
     "metadata": {},
     "output_type": "execute_result"
    }
   ],
   "source": [
    "df['species'].value_counts()      # checking the value counts of target variable"
   ]
  },
  {
   "cell_type": "markdown",
   "id": "135cb898-f020-4e58-a988-24a133e7e052",
   "metadata": {},
   "source": [
    "# EDA"
   ]
  },
  {
   "cell_type": "code",
   "execution_count": 42,
   "id": "bba2055e-8d55-4b57-beb0-6751651c0000",
   "metadata": {},
   "outputs": [
    {
     "data": {
      "image/png": "[encoded data removed]",
      "text/plain": [
       "<Figure size 640x480 with 1 Axes>"
      ]
     },
     "metadata": {},
     "output_type": "display_data"
    }
   ],
   "source": [
    "sns.countplot(x=df['species'])\n",
    "plt.title('Countplot of species')   \n",
    "plt.show() "
   ]
  },
  {
   "cell_type": "markdown",
   "id": "9e4b93d2-5e2b-4baa-9c68-54fda1938559",
   "metadata": {},
   "source": [
    "# Inference"
   ]
  },
  {
   "cell_type": "raw",
   "id": "59918674-423d-4c26-af34-39042538b8af",
   "metadata": {},
   "source": [
    "1. According to the data Iris-versicolor has more count"
   ]
  },
  {
   "cell_type": "markdown",
   "id": "b2a05268-4f71-4e05-be4b-ee44ae7ffe55",
   "metadata": {},
   "source": [
    "# Seprating Num columns and Cat columns|"
   ]
  },
  {
   "cell_type": "code",
   "execution_count": 46,
   "id": "a9e4e3ee-6dc9-4e84-80f0-23bb3351733c",
   "metadata": {},
   "outputs": [
    {
     "name": "stdout",
     "output_type": "stream",
     "text": [
      "Index(['species'], dtype='object')\n",
      "Index(['sepal_length', 'sepal_width', 'petal_length', 'petal_width'], dtype='object')\n"
     ]
    }
   ],
   "source": [
    "cat_cols = df.dtypes[df.dtypes=='object'].index\n",
    "num_cols = df.dtypes[df.dtypes!='object'].index\n",
    "print(cat_cols)\n",
    "print(num_cols)"
   ]
  },
  {
   "cell_type": "code",
   "execution_count": 48,
   "id": "b5726c27-8713-4a41-9ab2-10457015dbfe",
   "metadata": {},
   "outputs": [
    {
     "data": {
      "image/png": "[encoded data removed]",
      "text/plain": [
       "<Figure size 640x480 with 1 Axes>"
      ]
     },
     "metadata": {},
     "output_type": "display_data"
    },
    {
     "data": {
      "image/png": "[encoded data removed]",
      "text/plain": [
       "<Figure size 640x480 with 1 Axes>"
      ]
     },
     "metadata": {},
     "output_type": "display_data"
    },
    {
     "data": {
      "image/png": "[encoded data removed]",
      "text/plain": [
       "<Figure size 640x480 with 1 Axes>"
      ]
     },
     "metadata": {},
     "output_type": "display_data"
    },
    {
     "data": {
      "image/png": "[encoded data removed]",
      "text/plain": [
       "<Figure size 640x480 with 1 Axes>"
      ]
     },
     "metadata": {},
     "output_type": "display_data"
    }
   ],
   "source": [
    "for i in num_cols:\n",
    "    sns.boxplot(x = df[i])\n",
    "    plt.show()"
   ]
  },
  {
   "cell_type": "markdown",
   "id": "bcfed4ca-32cb-4ba8-b452-d869e990f2aa",
   "metadata": {},
   "source": [
    "# Inference"
   ]
  },
  {
   "cell_type": "raw",
   "id": "f260e56d-a6f3-4c86-8b4b-632bcc0dd381",
   "metadata": {},
   "source": [
    "1. According the data there are little outliers in sepal_width"
   ]
  },
  {
   "cell_type": "code",
   "execution_count": 51,
   "id": "9143d3a5-e7a1-4af9-a052-3d4e014237fb",
   "metadata": {},
   "outputs": [
    {
     "data": {
      "image/png": "[encoded data removed]",
      "text/plain": [
       "<Figure size 640x480 with 1 Axes>"
      ]
     },
     "metadata": {},
     "output_type": "display_data"
    }
   ],
   "source": [
    "for i in cat_cols:\n",
    "    plt.title(f'Pie Chart for {i}')\n",
    "    x = df[i].value_counts()\n",
    "    plt.pie(x.values, labels = x.index,autopct=\"%.2f%%\")\n",
    "    plt.show()"
   ]
  },
  {
   "cell_type": "markdown",
   "id": "bf5b0fae-017e-4d1f-9d06-a76bcbd40cb3",
   "metadata": {},
   "source": [
    "# Inference"
   ]
  },
  {
   "cell_type": "raw",
   "id": "f888bffc-37a4-4450-ae81-20a3a84d7678",
   "metadata": {},
   "source": [
    "1. According to the data Iris-versicolor has more count"
   ]
  },
  {
   "cell_type": "markdown",
   "id": "2787aa3f-1bb7-42d3-b2a9-afbeb69c0891",
   "metadata": {},
   "source": [
    "# Correlation"
   ]
  },
  {
   "cell_type": "code",
   "execution_count": 63,
   "id": "cd1f5ed7-34ab-42b1-a83a-ad76f04e65a5",
   "metadata": {},
   "outputs": [
    {
     "data": {
      "image/png": "[encoded data removed]",
      "text/plain": [
       "<Figure size 1600x1600 with 2 Axes>"
      ]
     },
     "metadata": {},
     "output_type": "display_data"
    }
   ],
   "source": [
    "# Calculate correlation only for numeric columns\n",
    "corr = df.select_dtypes(include='number').corr()\n",
    "\n",
    "# Plotting the heatmap\n",
    "plt.figure(figsize=(16,16))\n",
    "sns.heatmap(corr.where(abs(corr) > 0.7, other=0), annot=True, cmap='coolwarm')\n",
    "plt.show()\n"
   ]
  },
  {
   "cell_type": "markdown",
   "id": "492c88d7-f377-429b-a472-021edb411a51",
   "metadata": {},
   "source": [
    "# Inference"
   ]
  },
  {
   "cell_type": "raw",
   "id": "381e28a8-db54-468e-a9fc-571fa84f7930",
   "metadata": {},
   "source": [
    "1. There are features which are highly correlated like petal_length and sepal_length\n",
    "2. Petal_width and sepal_length"
   ]
  },
  {
   "cell_type": "markdown",
   "id": "9de8f107-7e32-4983-884d-a86a551b884a",
   "metadata": {},
   "source": [
    "# Handling Outliers"
   ]
  },
  {
   "cell_type": "code",
   "execution_count": 67,
   "id": "befd7417-d7e6-4ca9-965b-641e42c4bdc9",
   "metadata": {},
   "outputs": [
    {
     "data": {
      "text/html": [
       "<div>\n",
       "<style scoped>\n",
       "    .dataframe tbody tr th:only-of-type {\n",
       "        vertical-align: middle;\n",
       "    }\n",
       "\n",
       "    .dataframe tbody tr th {\n",
       "        vertical-align: top;\n",
       "    }\n",
       "\n",
       "    .dataframe thead th {\n",
       "        text-align: right;\n",
       "    }\n",
       "</style>\n",
       "<table border=\"1\" class=\"dataframe\">\n",
       "  <thead>\n",
       "    <tr style=\"text-align: right;\">\n",
       "      <th></th>\n",
       "      <th>count</th>\n",
       "      <th>mean</th>\n",
       "      <th>std</th>\n",
       "      <th>min</th>\n",
       "      <th>1%</th>\n",
       "      <th>2%</th>\n",
       "      <th>3%</th>\n",
       "      <th>5%</th>\n",
       "      <th>50%</th>\n",
       "      <th>95%</th>\n",
       "      <th>96%</th>\n",
       "      <th>97%</th>\n",
       "      <th>98%</th>\n",
       "      <th>99%</th>\n",
       "      <th>max</th>\n",
       "    </tr>\n",
       "  </thead>\n",
       "  <tbody>\n",
       "    <tr>\n",
       "      <th>sepal_length</th>\n",
       "      <td>147.0</td>\n",
       "      <td>5.856463</td>\n",
       "      <td>0.829100</td>\n",
       "      <td>4.3</td>\n",
       "      <td>4.400</td>\n",
       "      <td>4.4</td>\n",
       "      <td>4.538</td>\n",
       "      <td>4.60</td>\n",
       "      <td>5.8</td>\n",
       "      <td>7.27</td>\n",
       "      <td>7.432</td>\n",
       "      <td>7.662</td>\n",
       "      <td>7.700</td>\n",
       "      <td>7.700</td>\n",
       "      <td>7.9</td>\n",
       "    </tr>\n",
       "    <tr>\n",
       "      <th>sepal_width</th>\n",
       "      <td>147.0</td>\n",
       "      <td>3.055782</td>\n",
       "      <td>0.437009</td>\n",
       "      <td>2.0</td>\n",
       "      <td>2.200</td>\n",
       "      <td>2.2</td>\n",
       "      <td>2.300</td>\n",
       "      <td>2.33</td>\n",
       "      <td>3.0</td>\n",
       "      <td>3.80</td>\n",
       "      <td>3.816</td>\n",
       "      <td>3.900</td>\n",
       "      <td>4.008</td>\n",
       "      <td>4.154</td>\n",
       "      <td>4.4</td>\n",
       "    </tr>\n",
       "    <tr>\n",
       "      <th>petal_length</th>\n",
       "      <td>147.0</td>\n",
       "      <td>3.780272</td>\n",
       "      <td>1.759111</td>\n",
       "      <td>1.0</td>\n",
       "      <td>1.146</td>\n",
       "      <td>1.2</td>\n",
       "      <td>1.300</td>\n",
       "      <td>1.30</td>\n",
       "      <td>4.4</td>\n",
       "      <td>6.10</td>\n",
       "      <td>6.132</td>\n",
       "      <td>6.362</td>\n",
       "      <td>6.608</td>\n",
       "      <td>6.700</td>\n",
       "      <td>6.9</td>\n",
       "    </tr>\n",
       "    <tr>\n",
       "      <th>petal_width</th>\n",
       "      <td>147.0</td>\n",
       "      <td>1.208844</td>\n",
       "      <td>0.757874</td>\n",
       "      <td>0.1</td>\n",
       "      <td>0.100</td>\n",
       "      <td>0.1</td>\n",
       "      <td>0.200</td>\n",
       "      <td>0.20</td>\n",
       "      <td>1.3</td>\n",
       "      <td>2.30</td>\n",
       "      <td>2.316</td>\n",
       "      <td>2.400</td>\n",
       "      <td>2.408</td>\n",
       "      <td>2.500</td>\n",
       "      <td>2.5</td>\n",
       "    </tr>\n",
       "  </tbody>\n",
       "</table>\n",
       "</div>"
      ],
      "text/plain": [
       "              count      mean       std  min     1%   2%     3%    5%  50%  \\\n",
       "sepal_length  147.0  5.856463  0.829100  4.3  4.400  4.4  4.538  4.60  5.8   \n",
       "sepal_width   147.0  3.055782  0.437009  2.0  2.200  2.2  2.300  2.33  3.0   \n",
       "petal_length  147.0  3.780272  1.759111  1.0  1.146  1.2  1.300  1.30  4.4   \n",
       "petal_width   147.0  1.208844  0.757874  0.1  0.100  0.1  0.200  0.20  1.3   \n",
       "\n",
       "               95%    96%    97%    98%    99%  max  \n",
       "sepal_length  7.27  7.432  7.662  7.700  7.700  7.9  \n",
       "sepal_width   3.80  3.816  3.900  4.008  4.154  4.4  \n",
       "petal_length  6.10  6.132  6.362  6.608  6.700  6.9  \n",
       "petal_width   2.30  2.316  2.400  2.408  2.500  2.5  "
      ]
     },
     "execution_count": 67,
     "metadata": {},
     "output_type": "execute_result"
    }
   ],
   "source": [
    "df.describe(percentiles=[0.01,0.02,0.03,0.05,0.95,0.96,0.97,0.98,0.99]).T"
   ]
  },
  {
   "cell_type": "markdown",
   "id": "08e01dc8-8114-4382-bbb0-06adfa3b23a8",
   "metadata": {},
   "source": [
    "# Inference"
   ]
  },
  {
   "cell_type": "raw",
   "id": "e9f54c9b-c281-45c6-b421-b26e1be9b50b",
   "metadata": {},
   "source": [
    "There are minimul no. of outliers so here we are not treating it"
   ]
  },
  {
   "cell_type": "markdown",
   "id": "51a77ca9-1985-4cdb-aeb6-1cf432cee68d",
   "metadata": {},
   "source": [
    "# Select x and y"
   ]
  },
  {
   "cell_type": "code",
   "execution_count": 71,
   "id": "f53107f8-0196-42c9-a60f-b8bf0a33f98f",
   "metadata": {},
   "outputs": [
    {
     "name": "stdout",
     "output_type": "stream",
     "text": [
      "(147, 4)\n",
      "(147,)\n"
     ]
    }
   ],
   "source": [
    "x = df.drop(['species'],axis=1)\n",
    "y = df['species']\n",
    "print(x.shape)\n",
    "print(y.shape)"
   ]
  },
  {
   "cell_type": "markdown",
   "id": "e43434b5-2992-4e0e-9736-aa87a6c79aea",
   "metadata": {},
   "source": [
    "# Split data into train and test"
   ]
  },
  {
   "cell_type": "code",
   "execution_count": 74,
   "id": "e44c8e41-d4f9-45f6-96b3-b1a8c13d7c36",
   "metadata": {},
   "outputs": [],
   "source": [
    "from sklearn.model_selection import train_test_split"
   ]
  },
  {
   "cell_type": "code",
   "execution_count": 76,
   "id": "1ab94c62-4345-47e5-8491-4659c2e60931",
   "metadata": {},
   "outputs": [
    {
     "name": "stdout",
     "output_type": "stream",
     "text": [
      "(102, 4)\n",
      "(45, 4)\n",
      "(102,)\n",
      "(45,)\n"
     ]
    }
   ],
   "source": [
    "x_train,x_test,y_train,y_test = train_test_split(x,y,test_size=0.30,random_state=42)\n",
    "print(x_train.shape)\n",
    "print(x_test.shape)\n",
    "print(y_train.shape)\n",
    "print(y_test.shape)"
   ]
  },
  {
   "cell_type": "markdown",
   "id": "a4f668e1-aa19-47dc-be0a-2ddf0fdb1ba7",
   "metadata": {},
   "source": [
    "# Evaluating the Model"
   ]
  },
  {
   "cell_type": "code",
   "execution_count": 79,
   "id": "4c39f2f8-c1e6-4969-bd7a-a9ce2878df6a",
   "metadata": {},
   "outputs": [],
   "source": [
    "def eval_model(model,x_train,y_train,x_test,y_test,mname):\n",
    "    model.fit(x_train,y_train)\n",
    "    ypred = model.predict(x_test)\n",
    "    train_acc = model.score(x_train,y_train)\n",
    "    test_acc = model.score(x_test,y_test)\n",
    "    cm = confusion_matrix(y_test,ypred)\n",
    "    cr = classification_report(y_test,ypred)\n",
    "    res_df = pd.DataFrame({'Train_Acc':train_acc,'Test_Acc':test_acc},index=[mname])\n",
    "    print('Confusion_Matrix\\n',cm)\n",
    "    print('Classification Report\\n',cr)\n",
    "    return res_df"
   ]
  },
  {
   "cell_type": "code",
   "execution_count": 81,
   "id": "733d41ef-3127-447d-a849-7935432fd581",
   "metadata": {},
   "outputs": [],
   "source": [
    "from sklearn.linear_model import LogisticRegression\n",
    "from sklearn.neighbors import KNeighborsClassifier\n",
    "from sklearn.tree import DecisionTreeClassifier\n",
    "from sklearn.metrics import confusion_matrix, classification_report"
   ]
  },
  {
   "cell_type": "code",
   "execution_count": 83,
   "id": "aa07fb39-f38e-4f54-812e-02c22927c85f",
   "metadata": {},
   "outputs": [
    {
     "name": "stdout",
     "output_type": "stream",
     "text": [
      "Confusion_Matrix\n",
      " [[17  0  0]\n",
      " [ 0 11  1]\n",
      " [ 0  2 14]]\n",
      "Classification Report\n",
      "                  precision    recall  f1-score   support\n",
      "\n",
      "    Iris-setosa       1.00      1.00      1.00        17\n",
      "Iris-versicolor       0.85      0.92      0.88        12\n",
      " Iris-virginica       0.93      0.88      0.90        16\n",
      "\n",
      "       accuracy                           0.93        45\n",
      "      macro avg       0.93      0.93      0.93        45\n",
      "   weighted avg       0.94      0.93      0.93        45\n",
      "\n"
     ]
    }
   ],
   "source": [
    "lr1 = LogisticRegression(max_iter=100000)\n",
    "lr_res = eval_model(lr1,x_train,y_train,x_test,y_test,'LogReg')"
   ]
  },
  {
   "cell_type": "code",
   "execution_count": 85,
   "id": "c346927b-d4c7-40da-aac8-4cb5d2a08df8",
   "metadata": {},
   "outputs": [
    {
     "data": {
      "text/html": [
       "<div>\n",
       "<style scoped>\n",
       "    .dataframe tbody tr th:only-of-type {\n",
       "        vertical-align: middle;\n",
       "    }\n",
       "\n",
       "    .dataframe tbody tr th {\n",
       "        vertical-align: top;\n",
       "    }\n",
       "\n",
       "    .dataframe thead th {\n",
       "        text-align: right;\n",
       "    }\n",
       "</style>\n",
       "<table border=\"1\" class=\"dataframe\">\n",
       "  <thead>\n",
       "    <tr style=\"text-align: right;\">\n",
       "      <th></th>\n",
       "      <th>Train_Acc</th>\n",
       "      <th>Test_Acc</th>\n",
       "    </tr>\n",
       "  </thead>\n",
       "  <tbody>\n",
       "    <tr>\n",
       "      <th>LogReg</th>\n",
       "      <td>0.990196</td>\n",
       "      <td>0.933333</td>\n",
       "    </tr>\n",
       "  </tbody>\n",
       "</table>\n",
       "</div>"
      ],
      "text/plain": [
       "        Train_Acc  Test_Acc\n",
       "LogReg   0.990196  0.933333"
      ]
     },
     "execution_count": 85,
     "metadata": {},
     "output_type": "execute_result"
    }
   ],
   "source": [
    "lr_res        # Highly overfit"
   ]
  },
  {
   "cell_type": "markdown",
   "id": "55763b52-8ba6-475c-b48a-2e826365e859",
   "metadata": {},
   "source": [
    "# DT"
   ]
  },
  {
   "cell_type": "code",
   "execution_count": 88,
   "id": "696603e0-1739-4b7e-b522-4d9096bd9b6a",
   "metadata": {},
   "outputs": [
    {
     "name": "stdout",
     "output_type": "stream",
     "text": [
      "Confusion_Matrix\n",
      " [[17  0  0]\n",
      " [ 0 11  1]\n",
      " [ 0  0 16]]\n",
      "Classification Report\n",
      "                  precision    recall  f1-score   support\n",
      "\n",
      "    Iris-setosa       1.00      1.00      1.00        17\n",
      "Iris-versicolor       1.00      0.92      0.96        12\n",
      " Iris-virginica       0.94      1.00      0.97        16\n",
      "\n",
      "       accuracy                           0.98        45\n",
      "      macro avg       0.98      0.97      0.98        45\n",
      "   weighted avg       0.98      0.98      0.98        45\n",
      "\n"
     ]
    },
    {
     "data": {
      "text/html": [
       "<div>\n",
       "<style scoped>\n",
       "    .dataframe tbody tr th:only-of-type {\n",
       "        vertical-align: middle;\n",
       "    }\n",
       "\n",
       "    .dataframe tbody tr th {\n",
       "        vertical-align: top;\n",
       "    }\n",
       "\n",
       "    .dataframe thead th {\n",
       "        text-align: right;\n",
       "    }\n",
       "</style>\n",
       "<table border=\"1\" class=\"dataframe\">\n",
       "  <thead>\n",
       "    <tr style=\"text-align: right;\">\n",
       "      <th></th>\n",
       "      <th>Train_Acc</th>\n",
       "      <th>Test_Acc</th>\n",
       "    </tr>\n",
       "  </thead>\n",
       "  <tbody>\n",
       "    <tr>\n",
       "      <th>DTree</th>\n",
       "      <td>0.980392</td>\n",
       "      <td>0.977778</td>\n",
       "    </tr>\n",
       "  </tbody>\n",
       "</table>\n",
       "</div>"
      ],
      "text/plain": [
       "       Train_Acc  Test_Acc\n",
       "DTree   0.980392  0.977778"
      ]
     },
     "execution_count": 88,
     "metadata": {},
     "output_type": "execute_result"
    }
   ],
   "source": [
    "dt = DecisionTreeClassifier(criterion='gini',max_depth=12,min_samples_split=15)\n",
    "dt_res = eval_model(dt,x_train,y_train,x_test,y_test,'DTree')\n",
    "dt_res"
   ]
  },
  {
   "cell_type": "markdown",
   "id": "c20b3efa-fad0-461b-b6ed-d6450decfd9c",
   "metadata": {},
   "source": [
    "# RF"
   ]
  },
  {
   "cell_type": "code",
   "execution_count": 93,
   "id": "ace3eb58-788e-42f2-9d6d-225d27ebc67b",
   "metadata": {},
   "outputs": [],
   "source": [
    "from sklearn.metrics import accuracy_score, classification_report\n",
    "\n",
    "def eval_model(model, x_train, y_train, x_test, y_test, model_name='Model'):\n",
    "    # Train the model\n",
    "    model.fit(x_train, y_train)\n",
    "    \n",
    "    # Make predictions\n",
    "    y_pred = model.predict(x_test)\n",
    "    \n",
    "    # Calculate accuracy\n",
    "    accuracy = accuracy_score(y_test, y_pred)\n",
    "    report = classification_report(y_test, y_pred)\n",
    "    \n",
    "    # Print the results\n",
    "    print(f\"{model_name} Accuracy: {accuracy:.2f}\")\n",
    "    print(f\"Classification Report:\\n{report}\")\n",
    "    \n",
    "    # Optionally return the results\n",
    "    return {'accuracy': accuracy, 'classification_report': report}\n"
   ]
  },
  {
   "cell_type": "code",
   "execution_count": 95,
   "id": "7a8fffe6-ea7b-4070-a52c-e653c5999eb8",
   "metadata": {},
   "outputs": [
    {
     "name": "stdout",
     "output_type": "stream",
     "text": [
      "Random Forest Accuracy: 0.96\n",
      "Classification Report:\n",
      "                 precision    recall  f1-score   support\n",
      "\n",
      "    Iris-setosa       1.00      1.00      1.00        17\n",
      "Iris-versicolor       0.92      0.92      0.92        12\n",
      " Iris-virginica       0.94      0.94      0.94        16\n",
      "\n",
      "       accuracy                           0.96        45\n",
      "      macro avg       0.95      0.95      0.95        45\n",
      "   weighted avg       0.96      0.96      0.96        45\n",
      "\n"
     ]
    },
    {
     "data": {
      "text/plain": [
       "{'accuracy': 0.9555555555555556,\n",
       " 'classification_report': '                 precision    recall  f1-score   support\\n\\n    Iris-setosa       1.00      1.00      1.00        17\\nIris-versicolor       0.92      0.92      0.92        12\\n Iris-virginica       0.94      0.94      0.94        16\\n\\n       accuracy                           0.96        45\\n      macro avg       0.95      0.95      0.95        45\\n   weighted avg       0.96      0.96      0.96        45\\n'}"
      ]
     },
     "execution_count": 95,
     "metadata": {},
     "output_type": "execute_result"
    }
   ],
   "source": [
    "from sklearn.ensemble import RandomForestClassifier\n",
    "\n",
    "# Initialize the RandomForest model\n",
    "rf = RandomForestClassifier(n_estimators=80, criterion='gini', max_depth=12, min_samples_split=15)\n",
    "\n",
    "# Evaluate the model\n",
    "rf_res = eval_model(rf, x_train, y_train, x_test, y_test, 'Random Forest')\n",
    "rf_res\n"
   ]
  },
  {
   "cell_type": "markdown",
   "id": "77bc5205-15c0-4948-a515-f759ab592fa5",
   "metadata": {},
   "source": [
    "# Knn"
   ]
  },
  {
   "cell_type": "code",
   "execution_count": 98,
   "id": "890b0ffa-8d0b-4b78-9480-9f6074a61a22",
   "metadata": {},
   "outputs": [
    {
     "name": "stdout",
     "output_type": "stream",
     "text": [
      "KNN Accuracy: 0.96\n",
      "Classification Report:\n",
      "                 precision    recall  f1-score   support\n",
      "\n",
      "    Iris-setosa       1.00      1.00      1.00        17\n",
      "Iris-versicolor       0.92      0.92      0.92        12\n",
      " Iris-virginica       0.94      0.94      0.94        16\n",
      "\n",
      "       accuracy                           0.96        45\n",
      "      macro avg       0.95      0.95      0.95        45\n",
      "   weighted avg       0.96      0.96      0.96        45\n",
      "\n"
     ]
    }
   ],
   "source": [
    "knn = KNeighborsClassifier(n_neighbors=15)\n",
    "knn_res = eval_model(knn,x_train,y_train,x_test,y_test,'KNN')"
   ]
  },
  {
   "cell_type": "code",
   "execution_count": 100,
   "id": "63b270ac-16a3-4ca6-8aab-23535b09aca9",
   "metadata": {},
   "outputs": [
    {
     "data": {
      "text/plain": [
       "{'accuracy': 0.9555555555555556,\n",
       " 'classification_report': '                 precision    recall  f1-score   support\\n\\n    Iris-setosa       1.00      1.00      1.00        17\\nIris-versicolor       0.92      0.92      0.92        12\\n Iris-virginica       0.94      0.94      0.94        16\\n\\n       accuracy                           0.96        45\\n      macro avg       0.95      0.95      0.95        45\\n   weighted avg       0.96      0.96      0.96        45\\n'}"
      ]
     },
     "execution_count": 100,
     "metadata": {},
     "output_type": "execute_result"
    }
   ],
   "source": [
    "knn_res"
   ]
  },
  {
   "cell_type": "markdown",
   "id": "c4792b53-daf9-47b6-accf-c9e4abcd8f5f",
   "metadata": {},
   "source": [
    "# Inference"
   ]
  },
  {
   "cell_type": "raw",
   "id": "dfc3307d-37b5-4797-b2cd-c3f1d291a41a",
   "metadata": {},
   "source": [
    "According to the result Decision Tree Model is performing best"
   ]
  },
  {
   "cell_type": "code",
   "execution_count": 111,
   "id": "9296daf9-7899-424e-9a80-1490acd1c884",
   "metadata": {},
   "outputs": [],
   "source": [
    "ypred_dt =  dt.predict(x_test)"
   ]
  },
  {
   "cell_type": "code",
   "execution_count": 113,
   "id": "8010c738-2919-4e79-b6a5-b580aa1c34f8",
   "metadata": {},
   "outputs": [
    {
     "data": {
      "text/html": [
       "<div>\n",
       "<style scoped>\n",
       "    .dataframe tbody tr th:only-of-type {\n",
       "        vertical-align: middle;\n",
       "    }\n",
       "\n",
       "    .dataframe tbody tr th {\n",
       "        vertical-align: top;\n",
       "    }\n",
       "\n",
       "    .dataframe thead th {\n",
       "        text-align: right;\n",
       "    }\n",
       "</style>\n",
       "<table border=\"1\" class=\"dataframe\">\n",
       "  <thead>\n",
       "    <tr style=\"text-align: right;\">\n",
       "      <th></th>\n",
       "      <th>Actual_y_test</th>\n",
       "      <th>Pred</th>\n",
       "    </tr>\n",
       "  </thead>\n",
       "  <tbody>\n",
       "    <tr>\n",
       "      <th>127</th>\n",
       "      <td>Iris-virginica</td>\n",
       "      <td>Iris-virginica</td>\n",
       "    </tr>\n",
       "    <tr>\n",
       "      <th>53</th>\n",
       "      <td>Iris-versicolor</td>\n",
       "      <td>Iris-versicolor</td>\n",
       "    </tr>\n",
       "    <tr>\n",
       "      <th>140</th>\n",
       "      <td>Iris-virginica</td>\n",
       "      <td>Iris-virginica</td>\n",
       "    </tr>\n",
       "    <tr>\n",
       "      <th>19</th>\n",
       "      <td>Iris-setosa</td>\n",
       "      <td>Iris-setosa</td>\n",
       "    </tr>\n",
       "    <tr>\n",
       "      <th>106</th>\n",
       "      <td>Iris-virginica</td>\n",
       "      <td>Iris-virginica</td>\n",
       "    </tr>\n",
       "    <tr>\n",
       "      <th>12</th>\n",
       "      <td>Iris-setosa</td>\n",
       "      <td>Iris-setosa</td>\n",
       "    </tr>\n",
       "    <tr>\n",
       "      <th>78</th>\n",
       "      <td>Iris-versicolor</td>\n",
       "      <td>Iris-versicolor</td>\n",
       "    </tr>\n",
       "    <tr>\n",
       "      <th>31</th>\n",
       "      <td>Iris-setosa</td>\n",
       "      <td>Iris-setosa</td>\n",
       "    </tr>\n",
       "    <tr>\n",
       "      <th>83</th>\n",
       "      <td>Iris-versicolor</td>\n",
       "      <td>Iris-virginica</td>\n",
       "    </tr>\n",
       "    <tr>\n",
       "      <th>9</th>\n",
       "      <td>Iris-setosa</td>\n",
       "      <td>Iris-setosa</td>\n",
       "    </tr>\n",
       "    <tr>\n",
       "      <th>26</th>\n",
       "      <td>Iris-setosa</td>\n",
       "      <td>Iris-setosa</td>\n",
       "    </tr>\n",
       "    <tr>\n",
       "      <th>98</th>\n",
       "      <td>Iris-versicolor</td>\n",
       "      <td>Iris-versicolor</td>\n",
       "    </tr>\n",
       "    <tr>\n",
       "      <th>146</th>\n",
       "      <td>Iris-virginica</td>\n",
       "      <td>Iris-virginica</td>\n",
       "    </tr>\n",
       "    <tr>\n",
       "      <th>69</th>\n",
       "      <td>Iris-versicolor</td>\n",
       "      <td>Iris-versicolor</td>\n",
       "    </tr>\n",
       "    <tr>\n",
       "      <th>136</th>\n",
       "      <td>Iris-virginica</td>\n",
       "      <td>Iris-virginica</td>\n",
       "    </tr>\n",
       "    <tr>\n",
       "      <th>68</th>\n",
       "      <td>Iris-versicolor</td>\n",
       "      <td>Iris-versicolor</td>\n",
       "    </tr>\n",
       "    <tr>\n",
       "      <th>18</th>\n",
       "      <td>Iris-setosa</td>\n",
       "      <td>Iris-setosa</td>\n",
       "    </tr>\n",
       "    <tr>\n",
       "      <th>71</th>\n",
       "      <td>Iris-versicolor</td>\n",
       "      <td>Iris-versicolor</td>\n",
       "    </tr>\n",
       "    <tr>\n",
       "      <th>126</th>\n",
       "      <td>Iris-virginica</td>\n",
       "      <td>Iris-virginica</td>\n",
       "    </tr>\n",
       "    <tr>\n",
       "      <th>30</th>\n",
       "      <td>Iris-setosa</td>\n",
       "      <td>Iris-setosa</td>\n",
       "    </tr>\n",
       "  </tbody>\n",
       "</table>\n",
       "</div>"
      ],
      "text/plain": [
       "       Actual_y_test             Pred\n",
       "127   Iris-virginica   Iris-virginica\n",
       "53   Iris-versicolor  Iris-versicolor\n",
       "140   Iris-virginica   Iris-virginica\n",
       "19       Iris-setosa      Iris-setosa\n",
       "106   Iris-virginica   Iris-virginica\n",
       "12       Iris-setosa      Iris-setosa\n",
       "78   Iris-versicolor  Iris-versicolor\n",
       "31       Iris-setosa      Iris-setosa\n",
       "83   Iris-versicolor   Iris-virginica\n",
       "9        Iris-setosa      Iris-setosa\n",
       "26       Iris-setosa      Iris-setosa\n",
       "98   Iris-versicolor  Iris-versicolor\n",
       "146   Iris-virginica   Iris-virginica\n",
       "69   Iris-versicolor  Iris-versicolor\n",
       "136   Iris-virginica   Iris-virginica\n",
       "68   Iris-versicolor  Iris-versicolor\n",
       "18       Iris-setosa      Iris-setosa\n",
       "71   Iris-versicolor  Iris-versicolor\n",
       "126   Iris-virginica   Iris-virginica\n",
       "30       Iris-setosa      Iris-setosa"
      ]
     },
     "execution_count": 113,
     "metadata": {},
     "output_type": "execute_result"
    }
   ],
   "source": [
    "res_df = pd.DataFrame({'Actual_y_test':y_test,'Pred':ypred_dt})        # showing actual and prediction\n",
    "res_df.head(20)"
   ]
  },
  {
   "cell_type": "markdown",
   "id": "1c8c91ea-f6a7-4888-ad9e-5292c5d1ebe6",
   "metadata": {},
   "source": [
    "# Summary"
   ]
  },
  {
   "cell_type": "raw",
   "id": "9f7d43f6-0b81-4c5c-a2a0-fc207018658a",
   "metadata": {},
   "source": [
    "This is how using Data Analysis and Machine Learning Algorithm, we have succesfully able to predict the variation of iris flowers."
   ]
  }
 ],
 "metadata": {
  "kernelspec": {
   "display_name": "Python 3 (ipykernel)",
   "language": "python",
   "name": "python3"
  },
  "language_info": {
   "codemirror_mode": {
    "name": "ipython",
    "version": 3
   },
   "file_extension": ".py",
   "mimetype": "text/x-python",
   "name": "python",
   "nbconvert_exporter": "python",
   "pygments_lexer": "ipython3",
   "version": "3.11.7"
  }
 },
 "nbformat": 4,
 "nbformat_minor": 5
}
